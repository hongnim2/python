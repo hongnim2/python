{
 "cells": [
  {
   "cell_type": "markdown",
   "metadata": {},
   "source": [
    "# 변수와 데이터"
   ]
  },
  {
   "cell_type": "code",
   "execution_count": 6,
   "metadata": {
    "scrolled": true
   },
   "outputs": [
    {
     "name": "stdout",
     "output_type": "stream",
     "text": [
      "7\n"
     ]
    }
   ],
   "source": [
    "print(3+4) #실행: ctrl+Enter # Cell추가: Alt+Enter"
   ]
  },
  {
   "cell_type": "code",
   "execution_count": 4,
   "metadata": {},
   "outputs": [
    {
     "name": "stdout",
     "output_type": "stream",
     "text": [
      "Hello\n"
     ]
    }
   ],
   "source": [
    "print(\"Hello\")"
   ]
  },
  {
   "cell_type": "code",
   "execution_count": 9,
   "metadata": {},
   "outputs": [
    {
     "name": "stdout",
     "output_type": "stream",
     "text": [
      "7\n"
     ]
    }
   ],
   "source": [
    "a=3+4\n",
    "print(a)"
   ]
  },
  {
   "cell_type": "code",
   "execution_count": 12,
   "metadata": {},
   "outputs": [
    {
     "name": "stdout",
     "output_type": "stream",
     "text": [
      "11\n",
      "14\n"
     ]
    }
   ],
   "source": [
    "a3=3+8\n",
    "#a3=60\n",
    "print(a3)\n",
    "'''\n",
    "print(4+8)\n",
    "print(6+7)\n",
    "'''\n",
    "print(14)"
   ]
  },
  {
   "cell_type": "code",
   "execution_count": 14,
   "metadata": {
    "scrolled": true
   },
   "outputs": [
    {
     "name": "stdout",
     "output_type": "stream",
     "text": [
      "112\n"
     ]
    },
    {
     "data": {
      "text/plain": [
       "8791294845216"
      ]
     },
     "execution_count": 14,
     "metadata": {},
     "output_type": "execute_result"
    }
   ],
   "source": [
    "result=56+56\n",
    "print(result)\n",
    "id(result)"
   ]
  },
  {
   "cell_type": "markdown",
   "metadata": {},
   "source": [
    "데이터의 타입 확인 예제"
   ]
  },
  {
   "cell_type": "code",
   "execution_count": null,
   "metadata": {},
   "outputs": [],
   "source": [
    "a=30\n",
    "b=4.15\n",
    "c=True\n",
    "s1=\"hello\"   #문자열은 ' '이 기본인식\n",
    "s2='hello'\n",
    "#다중 문자열은 \"\"\" \"\"\"\n",
    "s3=\"\"\"\n",
    "    hello\n",
    "    python\n",
    "\"\"\"\n",
    "print(type(a))\n",
    "print(type(b))\n",
    "print(type(c))\n",
    "print(type(s1))\n",
    "print(type(s2))\n",
    "print(type(s3))\n"
   ]
  },
  {
   "cell_type": "markdown",
   "metadata": {},
   "source": [
    "데이터 타입 변환 (형변환)"
   ]
  },
  {
   "cell_type": "code",
   "execution_count": 26,
   "metadata": {},
   "outputs": [
    {
     "name": "stdout",
     "output_type": "stream",
     "text": [
      "<class 'float'> 3.45\n",
      "<class 'int'> 3\n",
      "<class 'float'> 3.0\n",
      "1\n"
     ]
    }
   ],
   "source": [
    "aa=3.45\n",
    "print(type(aa), aa)\n",
    "aa=int(aa)\n",
    "print(type(aa), aa)\n",
    "aa=float(aa)\n",
    "print(type(aa), aa)\n",
    "print(int(True))"
   ]
  },
  {
   "cell_type": "code",
   "execution_count": 30,
   "metadata": {},
   "outputs": [
    {
     "name": "stdout",
     "output_type": "stream",
     "text": [
      "<class 'str'> 123\n",
      "<class 'int'> 123\n"
     ]
    }
   ],
   "source": [
    "ss=\"123\"\n",
    "print(type(ss), ss)\n",
    "ss=int(ss)\n",
    "print(type(ss), ss)"
   ]
  },
  {
   "cell_type": "code",
   "execution_count": 41,
   "metadata": {},
   "outputs": [
    {
     "name": "stdout",
     "output_type": "stream",
     "text": [
      "숫자를 입력하세요 : 3\n",
      "<class 'str'> 3\n",
      "9\n"
     ]
    }
   ],
   "source": [
    "#키보드로부터 숫자를 입력받아 제곱한 결과를 출력하세요.\n",
    "su=input(\"숫자를 입력하세요 : \")\n",
    "print(type(su), su)\n",
    "su=int(su)\n",
    "print(su*su)"
   ]
  },
  {
   "cell_type": "code",
   "execution_count": 44,
   "metadata": {},
   "outputs": [
    {
     "name": "stdout",
     "output_type": "stream",
     "text": [
      "숫자를 입력하세요 : qwe\n"
     ]
    },
    {
     "ename": "ValueError",
     "evalue": "invalid literal for int() with base 10: 'qwe'",
     "output_type": "error",
     "traceback": [
      "\u001b[1;31m---------------------------------------------------------------------------\u001b[0m",
      "\u001b[1;31mValueError\u001b[0m                                Traceback (most recent call last)",
      "\u001b[1;32m<ipython-input-44-c7b399c550bf>\u001b[0m in \u001b[0;36m<module>\u001b[1;34m\u001b[0m\n\u001b[1;32m----> 1\u001b[1;33m \u001b[0msu\u001b[0m\u001b[1;33m=\u001b[0m\u001b[0mint\u001b[0m\u001b[1;33m(\u001b[0m\u001b[0minput\u001b[0m\u001b[1;33m(\u001b[0m\u001b[1;34m\"숫자를 입력하세요 : \"\u001b[0m\u001b[1;33m)\u001b[0m\u001b[1;33m)\u001b[0m\u001b[1;33m\u001b[0m\u001b[1;33m\u001b[0m\u001b[0m\n\u001b[0m\u001b[0;32m      2\u001b[0m \u001b[0mprint\u001b[0m\u001b[1;33m(\u001b[0m\u001b[0mtype\u001b[0m\u001b[1;33m(\u001b[0m\u001b[0msu\u001b[0m\u001b[1;33m)\u001b[0m\u001b[1;33m,\u001b[0m \u001b[0msu\u001b[0m\u001b[1;33m*\u001b[0m\u001b[0msu\u001b[0m\u001b[1;33m)\u001b[0m\u001b[1;33m\u001b[0m\u001b[1;33m\u001b[0m\u001b[0m\n",
      "\u001b[1;31mValueError\u001b[0m: invalid literal for int() with base 10: 'qwe'"
     ]
    }
   ],
   "source": [
    "su=int(input(\"숫자를 입력하세요 : \"))\n",
    "print(type(su), su*su)"
   ]
  },
  {
   "cell_type": "code",
   "execution_count": 47,
   "metadata": {},
   "outputs": [
    {
     "name": "stdout",
     "output_type": "stream",
     "text": [
      "12.75\n",
      "12\n",
      "3\n"
     ]
    }
   ],
   "source": [
    "aa=51\n",
    "bb=4\n",
    "print(aa/bb)\n",
    "print(aa//bb)\n",
    "print(aa%bb)"
   ]
  },
  {
   "cell_type": "code",
   "execution_count": 50,
   "metadata": {},
   "outputs": [
    {
     "name": "stdout",
     "output_type": "stream",
     "text": [
      "성적을 입력하세요 : 4-\n"
     ]
    },
    {
     "ename": "ValueError",
     "evalue": "invalid literal for int() with base 10: '4-'",
     "output_type": "error",
     "traceback": [
      "\u001b[1;31m---------------------------------------------------------------------------\u001b[0m",
      "\u001b[1;31mValueError\u001b[0m                                Traceback (most recent call last)",
      "\u001b[1;32m<ipython-input-50-efa66412e4c7>\u001b[0m in \u001b[0;36m<module>\u001b[1;34m\u001b[0m\n\u001b[0;32m      1\u001b[0m \u001b[1;31m#w=50\u001b[0m\u001b[1;33m\u001b[0m\u001b[1;33m\u001b[0m\u001b[1;33m\u001b[0m\u001b[0m\n\u001b[1;32m----> 2\u001b[1;33m \u001b[0mw\u001b[0m\u001b[1;33m=\u001b[0m\u001b[0mint\u001b[0m\u001b[1;33m(\u001b[0m\u001b[0minput\u001b[0m\u001b[1;33m(\u001b[0m\u001b[1;34m\"성적을 입력하세요 : \"\u001b[0m\u001b[1;33m)\u001b[0m\u001b[1;33m)\u001b[0m\u001b[1;33m\u001b[0m\u001b[1;33m\u001b[0m\u001b[0m\n\u001b[0m\u001b[0;32m      3\u001b[0m \u001b[1;32mif\u001b[0m \u001b[0mw\u001b[0m\u001b[1;33m>=\u001b[0m\u001b[1;36m70\u001b[0m\u001b[1;33m:\u001b[0m\u001b[1;33m\u001b[0m\u001b[1;33m\u001b[0m\u001b[0m\n\u001b[0;32m      4\u001b[0m     \u001b[0mprint\u001b[0m\u001b[1;33m(\u001b[0m\u001b[1;34m\"합격\"\u001b[0m\u001b[1;33m)\u001b[0m\u001b[1;33m\u001b[0m\u001b[1;33m\u001b[0m\u001b[0m\n\u001b[0;32m      5\u001b[0m \u001b[1;32melse\u001b[0m\u001b[1;33m:\u001b[0m\u001b[1;33m\u001b[0m\u001b[1;33m\u001b[0m\u001b[0m\n",
      "\u001b[1;31mValueError\u001b[0m: invalid literal for int() with base 10: '4-'"
     ]
    }
   ],
   "source": [
    "#w=50\n",
    "w=int(input(\"성적을 입력하세요 : \"))\n",
    "if w>=70:\n",
    "    print(\"합격\")\n",
    "else:\n",
    "    print(\"불합격\")"
   ]
  },
  {
   "cell_type": "code",
   "execution_count": 52,
   "metadata": {},
   "outputs": [
    {
     "name": "stdout",
     "output_type": "stream",
     "text": [
      "성적을 입력하세여 : 12\n",
      "F\n"
     ]
    }
   ],
   "source": [
    "#키보드로 점수를 입력받아 90점 이상이면 A,\n",
    "#89~80점이면 B, 79~70이면 C,\n",
    "#70점 미만이면 F 출력\n",
    "score = int(input(\"성적을 입력하세여 : \"))\n",
    "if score >= 90:\n",
    "    print(\"A\")\n",
    "elif score >= 80 and score < 90:\n",
    "    print(\"B\")\n",
    "elif score >= 70 and score < 80:\n",
    "    print(\"C\")\n",
    "#elif score < 70:\n",
    "else:\n",
    "    print(\"F\")"
   ]
  },
  {
   "cell_type": "markdown",
   "metadata": {},
   "source": [
    "\"몸무게+100-키\"를 비만수치 공식이라고 하자.\n",
    "키와 몸무게를 자연수로 입력받아 첫 번째 줄에 비만수치를 출력하고, 비만수치가 0보다 크면 다음 줄에 비만이라는 메시지를 출력하는 프로그램을 작성하시오"
   ]
  },
  {
   "cell_type": "code",
   "execution_count": 61,
   "metadata": {},
   "outputs": [
    {
     "name": "stdout",
     "output_type": "stream",
     "text": [
      "몸무게를 입력하세요 : 75\n",
      "키를 입력하세요 : 176\n",
      "비만수치 : -1\n"
     ]
    }
   ],
   "source": [
    "weigth = int(input(\"몸무게를 입력하세요 : \"))\n",
    "length = int(input(\"키를 입력하세요 : \"))\n",
    "bmi = weigth+100-length\n",
    "print(\"비만수치 :\", bmi)\n",
    "if bmi > 0:\n",
    "    print(\"비만\")\n",
    "else:\n",
    "    pass"
   ]
  },
  {
   "cell_type": "code",
   "execution_count": 66,
   "metadata": {},
   "outputs": [
    {
     "name": "stdout",
     "output_type": "stream",
     "text": [
      "1 2 3 4 5 6 7 8 9 \n",
      "end\n"
     ]
    }
   ],
   "source": [
    "for i in range(1, 10): #1~9\n",
    "    #print(i)\n",
    "    print(i, end=\" \")\n",
    "print(\"\\nend\")"
   ]
  },
  {
   "cell_type": "code",
   "execution_count": 119,
   "metadata": {},
   "outputs": [
    {
     "name": "stdout",
     "output_type": "stream",
     "text": [
      "숫자를 입력하세요 : 1\n",
      "1\n"
     ]
    }
   ],
   "source": [
    "#키보드로부터 숫자를 입력받아 1~입력받은 숫자까지의 합을 구하여 출력\n",
    "des=int(input(\"숫자를 입력하세요 : \"))\n",
    "result=0\n",
    "for i in range(1,des+1):\n",
    "    result+=i\n",
    "print(result)"
   ]
  },
  {
   "cell_type": "code",
   "execution_count": 91,
   "metadata": {},
   "outputs": [
    {
     "name": "stdout",
     "output_type": "stream",
     "text": [
      "숫자를 입력하세요21\n",
      "84\n"
     ]
    }
   ],
   "source": [
    "#키보드로부터 숫자를 입력받아 1~입력받은 숫자까지 중 3의 배수의 합을 구하여 출력\n",
    "total = 0\n",
    "su=int(input(\"숫자를 입력하세요\"))\n",
    "for i in range(1, su+1):\n",
    "    if i%3 == 0:\n",
    "        total+=i\n",
    "    else:\n",
    "        pass\n",
    "print(total)"
   ]
  },
  {
   "cell_type": "code",
   "execution_count": 102,
   "metadata": {},
   "outputs": [
    {
     "name": "stdout",
     "output_type": "stream",
     "text": [
      "hello\n",
      "helloabc\n",
      "hello abc\n",
      "30 3.146340 hello\n",
      "30 3.15 hello\n"
     ]
    }
   ],
   "source": [
    "print(\"hello\")\n",
    "print(\"hello\"+\"abc\")\n",
    "print(\"hello\", \"abc\")\n",
    "print(\"%d %f %s\" %(30, 3.14634, \"hello\"))\n",
    "print(\"%d %.2f %s\" %(30, 3.14634, \"hello\"))"
   ]
  },
  {
   "cell_type": "code",
   "execution_count": 2,
   "metadata": {},
   "outputs": [
    {
     "name": "stdout",
     "output_type": "stream",
     "text": [
      "[ 2단]\n",
      " 2 * 1 =  2\n",
      " 2 * 2 =  4\n",
      " 2 * 3 =  6\n",
      " 2 * 4 =  8\n",
      " 2 * 5 = 10\n",
      " 2 * 6 = 12\n",
      " 2 * 7 = 14\n",
      " 2 * 8 = 16\n",
      " 2 * 9 = 18\n",
      "[ 3단]\n",
      " 3 * 1 =  3\n",
      " 3 * 2 =  6\n",
      " 3 * 3 =  9\n",
      " 3 * 4 = 12\n",
      " 3 * 5 = 15\n",
      " 3 * 6 = 18\n",
      " 3 * 7 = 21\n",
      " 3 * 8 = 24\n",
      " 3 * 9 = 27\n",
      "[ 4단]\n",
      " 4 * 1 =  4\n",
      " 4 * 2 =  8\n",
      " 4 * 3 = 12\n",
      " 4 * 4 = 16\n",
      " 4 * 5 = 20\n",
      " 4 * 6 = 24\n",
      " 4 * 7 = 28\n",
      " 4 * 8 = 32\n",
      " 4 * 9 = 36\n",
      "[ 5단]\n",
      " 5 * 1 =  5\n",
      " 5 * 2 = 10\n",
      " 5 * 3 = 15\n",
      " 5 * 4 = 20\n",
      " 5 * 5 = 25\n",
      " 5 * 6 = 30\n",
      " 5 * 7 = 35\n",
      " 5 * 8 = 40\n",
      " 5 * 9 = 45\n",
      "[ 6단]\n",
      " 6 * 1 =  6\n",
      " 6 * 2 = 12\n",
      " 6 * 3 = 18\n",
      " 6 * 4 = 24\n",
      " 6 * 5 = 30\n",
      " 6 * 6 = 36\n",
      " 6 * 7 = 42\n",
      " 6 * 8 = 48\n",
      " 6 * 9 = 54\n",
      "[ 7단]\n",
      " 7 * 1 =  7\n",
      " 7 * 2 = 14\n",
      " 7 * 3 = 21\n",
      " 7 * 4 = 28\n",
      " 7 * 5 = 35\n",
      " 7 * 6 = 42\n",
      " 7 * 7 = 49\n",
      " 7 * 8 = 56\n",
      " 7 * 9 = 63\n",
      "[ 8단]\n",
      " 8 * 1 =  8\n",
      " 8 * 2 = 16\n",
      " 8 * 3 = 24\n",
      " 8 * 4 = 32\n",
      " 8 * 5 = 40\n",
      " 8 * 6 = 48\n",
      " 8 * 7 = 56\n",
      " 8 * 8 = 64\n",
      " 8 * 9 = 72\n",
      "[ 9단]\n",
      " 9 * 1 =  9\n",
      " 9 * 2 = 18\n",
      " 9 * 3 = 27\n",
      " 9 * 4 = 36\n",
      " 9 * 5 = 45\n",
      " 9 * 6 = 54\n",
      " 9 * 7 = 63\n",
      " 9 * 8 = 72\n",
      " 9 * 9 = 81\n"
     ]
    }
   ],
   "source": [
    "#구구단\n",
    "'''\n",
    "3*1=3\n",
    "3*2=6\n",
    "..\n",
    "3*9=27\n",
    "'''\n",
    "for dan in range(2,10):\n",
    "    print(\"[%2d단]\"%(dan))\n",
    "    for i in range(1,10):\n",
    "        print(\"%2d * %d = %2d\"%(dan, i, dan*i))"
   ]
  },
  {
   "cell_type": "code",
   "execution_count": 3,
   "metadata": {},
   "outputs": [
    {
     "name": "stdout",
     "output_type": "stream",
     "text": [
      "Variable   Type    Data/Info\n",
      "----------------------------\n",
      "dan        int     9\n",
      "i          int     9\n"
     ]
    }
   ],
   "source": [
    "%whos # 사용자가 정의한 변수"
   ]
  },
  {
   "cell_type": "code",
   "execution_count": 4,
   "metadata": {},
   "outputs": [
    {
     "data": {
      "text/plain": [
       "{'__name__': '__main__',\n",
       " '__doc__': '\\n3*1=3\\n3*2=6\\n..\\n3*9=27\\n',\n",
       " '__package__': None,\n",
       " '__loader__': None,\n",
       " '__spec__': None,\n",
       " '__builtin__': <module 'builtins' (built-in)>,\n",
       " '__builtins__': <module 'builtins' (built-in)>,\n",
       " '_ih': ['',\n",
       "  \"get_ipython().run_line_magic('whos', '')\",\n",
       "  '#구구단\\n\\'\\'\\'\\n3*1=3\\n3*2=6\\n..\\n3*9=27\\n\\'\\'\\'\\nfor dan in range(2,10):\\n    print(\"[%2d단]\"%(dan))\\n    for i in range(1,10):\\n        print(\"%2d * %d = %2d\"%(dan, i, dan*i))',\n",
       "  \"get_ipython().run_line_magic('whos', '')\",\n",
       "  'locals() # 현재 사용할 수 있는 모든 것(내장+사용자 정의)'],\n",
       " '_oh': {},\n",
       " '_dh': ['D:\\\\python_work\\\\day1'],\n",
       " 'In': ['',\n",
       "  \"get_ipython().run_line_magic('whos', '')\",\n",
       "  '#구구단\\n\\'\\'\\'\\n3*1=3\\n3*2=6\\n..\\n3*9=27\\n\\'\\'\\'\\nfor dan in range(2,10):\\n    print(\"[%2d단]\"%(dan))\\n    for i in range(1,10):\\n        print(\"%2d * %d = %2d\"%(dan, i, dan*i))',\n",
       "  \"get_ipython().run_line_magic('whos', '')\",\n",
       "  'locals() # 현재 사용할 수 있는 모든 것(내장+사용자 정의)'],\n",
       " 'Out': {},\n",
       " 'get_ipython': <bound method InteractiveShell.get_ipython of <ipykernel.zmqshell.ZMQInteractiveShell object at 0x00000000056AE6D8>>,\n",
       " 'exit': <IPython.core.autocall.ZMQExitAutocall at 0x570cbe0>,\n",
       " 'quit': <IPython.core.autocall.ZMQExitAutocall at 0x570cbe0>,\n",
       " '_': '',\n",
       " '__': '',\n",
       " '___': '',\n",
       " '_i': '%whos',\n",
       " '_ii': '#구구단\\n\\'\\'\\'\\n3*1=3\\n3*2=6\\n..\\n3*9=27\\n\\'\\'\\'\\nfor dan in range(2,10):\\n    print(\"[%2d단]\"%(dan))\\n    for i in range(1,10):\\n        print(\"%2d * %d = %2d\"%(dan, i, dan*i))',\n",
       " '_iii': '%whos',\n",
       " '_i1': '%whos',\n",
       " '_i2': '#구구단\\n\\'\\'\\'\\n3*1=3\\n3*2=6\\n..\\n3*9=27\\n\\'\\'\\'\\nfor dan in range(2,10):\\n    print(\"[%2d단]\"%(dan))\\n    for i in range(1,10):\\n        print(\"%2d * %d = %2d\"%(dan, i, dan*i))',\n",
       " 'dan': 9,\n",
       " 'i': 9,\n",
       " '_i3': '%whos',\n",
       " '_i4': 'locals() # 현재 사용할 수 있는 모든 것(내장+사용자 정의)'}"
      ]
     },
     "execution_count": 4,
     "metadata": {},
     "output_type": "execute_result"
    }
   ],
   "source": [
    "locals() # 현재 사용할 수 있는 모든 것(내장+사용자 정의)"
   ]
  },
  {
   "cell_type": "code",
   "execution_count": 7,
   "metadata": {},
   "outputs": [
    {
     "name": "stdout",
     "output_type": "stream",
     "text": [
      "28\n"
     ]
    }
   ],
   "source": [
    "import sys\n",
    "a=60\n",
    "print(sys.getsizeof(a))"
   ]
  },
  {
   "cell_type": "code",
   "execution_count": 9,
   "metadata": {},
   "outputs": [
    {
     "name": "stdout",
     "output_type": "stream",
     "text": [
      "True\n",
      "True\n"
     ]
    }
   ],
   "source": [
    "a=600\n",
    "b=600\n",
    "print(a==b) # 값이 같은지\n",
    "print(a is b) # id가 같은지"
   ]
  }
 ],
 "metadata": {
  "kernelspec": {
   "display_name": "Python 3",
   "language": "python",
   "name": "python3"
  },
  "language_info": {
   "codemirror_mode": {
    "name": "ipython",
    "version": 3
   },
   "file_extension": ".py",
   "mimetype": "text/x-python",
   "name": "python",
   "nbconvert_exporter": "python",
   "pygments_lexer": "ipython3",
   "version": "3.7.3"
  }
 },
 "nbformat": 4,
 "nbformat_minor": 2
}
