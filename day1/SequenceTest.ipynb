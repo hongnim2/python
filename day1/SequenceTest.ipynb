{
 "cells": [
  {
   "cell_type": "markdown",
   "metadata": {},
   "source": [
    "# 문자열 Test"
   ]
  },
  {
   "cell_type": "code",
   "execution_count": 14,
   "metadata": {
    "scrolled": true
   },
   "outputs": [
    {
     "name": "stdout",
     "output_type": "stream",
     "text": [
      "hello python\n",
      "hello \"python\"\n",
      "hello \n",
      "\"python\"\n"
     ]
    }
   ],
   "source": [
    "s=\"hello python\"\n",
    "print(s)\n",
    "s=\"hello \\\"python\\\"\"\n",
    "print(s)\n",
    "s=\"hello \\n\\\"python\\\"\"\n",
    "print(s)"
   ]
  },
  {
   "cell_type": "markdown",
   "metadata": {},
   "source": [
    "문자열 분할연산(slicing)"
   ]
  },
  {
   "cell_type": "code",
   "execution_count": 3,
   "metadata": {},
   "outputs": [
    {
     "name": "stdout",
     "output_type": "stream",
     "text": [
      "hello python\n",
      "o\n",
      "llo p\n",
      "hell\n",
      "llo python\n",
      "hello python\n",
      "12\n",
      "on\n",
      "hello py\n",
      "hp\n"
     ]
    }
   ],
   "source": [
    "s=\"hello python\"\n",
    "print(s)\n",
    "print(s[4])\n",
    "print(s[2:7])\n",
    "print(s[:4])\n",
    "print(s[2:])\n",
    "print(s[:])\n",
    "print(len(s))\n",
    "print(s[-2:])\n",
    "print(s[:-4])\n",
    "print(s[0:12:6])"
   ]
  },
  {
   "cell_type": "code",
   "execution_count": 54,
   "metadata": {},
   "outputs": [
    {
     "name": "stdout",
     "output_type": "stream",
     "text": [
      "26\n",
      "hello python ['hello', 'python'] <class 'str'> <class 'list'>\n",
      "o의 위치 : 4\n",
      "o의 위치 : 10\n",
      "o의 개수 : 2\n",
      "HELLO PYTHON\n",
      "hello python\n",
      "*********hello python*********\n",
      "h*e*l*l*o* *p*y*t*h*o*n\n",
      "['hello', 'python']\n"
     ]
    }
   ],
   "source": [
    "s=\"          hello python    \"\n",
    "print(len(s))\n",
    "s1=s.strip() # 양쪽 여백, 리턴키를 제거\n",
    "s2=s.split() # ()안의 문자 기준으로 글자 구분 및 추출\n",
    "print(s1, s2, type(s1), type(s2))\n",
    "print(\"o의 위치 :\", s1.index('o'))\n",
    "print(\"o의 위치 :\", s1.index('o', 5))\n",
    "print(\"o의 개수 :\", s1.count('o'))\n",
    "print(s1.upper())\n",
    "print(s1.lower())\n",
    "print(s1.center(30,\"*\")) # 지정된 길이의 가운데 위치 및 공백채움문자 지정\n",
    "print(\"*\".join(s1))\n",
    "print(s1.split(\" \")) # 공백으로 문자열 분리"
   ]
  },
  {
   "cell_type": "markdown",
   "metadata": {},
   "source": [
    "# 리스트 Test"
   ]
  },
  {
   "cell_type": "markdown",
   "metadata": {},
   "source": [
    "여러 데이터를 순서있게 관리, 중복 가능;추가, 검색, 수정, 삭제"
   ]
  },
  {
   "cell_type": "code",
   "execution_count": null,
   "metadata": {},
   "outputs": [],
   "source": [
    "mylist=[1,2,3,4,5]"
   ]
  },
  {
   "cell_type": "markdown",
   "metadata": {},
   "source": [
    "리스트 검색"
   ]
  },
  {
   "cell_type": "code",
   "execution_count": 4,
   "metadata": {},
   "outputs": [
    {
     "name": "stdout",
     "output_type": "stream",
     "text": [
      "4\n",
      "[2, 3]\n",
      "[1, 2, 3]\n",
      "[4, 5]\n",
      "[3, 4, 5]\n"
     ]
    }
   ],
   "source": [
    "mylist=[1,2,3,4,5]\n",
    "print(mylist[3])\n",
    "print(mylist[1:3])\n",
    "print(mylist[:3])\n",
    "print(mylist[3:])\n",
    "print(mylist[-3:])"
   ]
  },
  {
   "cell_type": "code",
   "execution_count": 20,
   "metadata": {},
   "outputs": [
    {
     "name": "stdout",
     "output_type": "stream",
     "text": [
      "34\n"
     ]
    }
   ],
   "source": [
    "m=list(range(1,101,3))\n",
    "#dir(m)\n",
    "print(len(m))"
   ]
  },
  {
   "cell_type": "code",
   "execution_count": 23,
   "metadata": {},
   "outputs": [
    {
     "name": "stdout",
     "output_type": "stream",
     "text": [
      "[2, 3, 3, 5, 6, 7, 8]\n",
      "[8, 7, 6, 5, 3, 3, 2]\n",
      "[2, 3, 3, 5, 6, 7, 8]\n",
      "True\n"
     ]
    }
   ],
   "source": [
    "m2=[5,7,3,6,3,8,2]\n",
    "m2.sort()\n",
    "print(m2)\n",
    "m2.sort(reverse=True)\n",
    "print(m2)\n",
    "#print(m2.sort()) # sort()는 결과값을 리턴하지 않는다.\n",
    "print(sorted(m2))\n",
    "print(6 in m2)"
   ]
  },
  {
   "cell_type": "code",
   "execution_count": 26,
   "metadata": {},
   "outputs": [
    {
     "name": "stdout",
     "output_type": "stream",
     "text": [
      "<class 'str'> a:b:c:d\n",
      "<class 'str'> abcd\n",
      "<class 'list'> ['a', 'b', 'c', 'd']\n",
      "<class 'str'> ['a', 'b', 'c', 'd']\n",
      "<class 'list'> ['a', 'b', 'c', 'd']\n"
     ]
    }
   ],
   "source": [
    "slist=[\"a\",\"b\",\"c\",\"d\"]\n",
    "ss=\":\"\n",
    "s1=ss.join(slist)\n",
    "s11=''.join(slist)\n",
    "print(type(s1),s1)\n",
    "print(type(s11),s11)\n",
    "s12=list(s11)\n",
    "print(type(s12),s12)\n",
    "s2=str(slist) # 대괄호, 따옴표 포함하여 문자열로 치환\n",
    "print(type(s2),s2)\n",
    "s3=s1.split(\":\")\n",
    "print(type(s3),s3)"
   ]
  },
  {
   "cell_type": "code",
   "execution_count": 71,
   "metadata": {},
   "outputs": [
    {
     "name": "stdout",
     "output_type": "stream",
     "text": [
      "1\n",
      "2\n",
      "3\n",
      "4\n",
      "5\n"
     ]
    }
   ],
   "source": [
    "for my in mylist:\n",
    "    print(my)"
   ]
  },
  {
   "cell_type": "markdown",
   "metadata": {},
   "source": [
    "리스트 수정"
   ]
  },
  {
   "cell_type": "code",
   "execution_count": 76,
   "metadata": {},
   "outputs": [
    {
     "name": "stdout",
     "output_type": "stream",
     "text": [
      "['a', 'b', 'c', [1, 'kk', 4]]\n"
     ]
    }
   ],
   "source": [
    "slist=[\"a\",\"b\",\"c\",\"d\"]\n",
    "#slist[3]=\"kk\"\n",
    "#slist[3]=123\n",
    "slist[3]=[1, 2, 4]\n",
    "slist[3][1]=\"kk\"\n",
    "print(slist)"
   ]
  },
  {
   "cell_type": "markdown",
   "metadata": {},
   "source": [
    "리스트 추가"
   ]
  },
  {
   "cell_type": "code",
   "execution_count": 80,
   "metadata": {},
   "outputs": [
    {
     "name": "stdout",
     "output_type": "stream",
     "text": [
      "['a', 'b', 'c', 'd', 'e']\n",
      "['a', 'b', 'c', 'd', 'e', 'f']\n"
     ]
    }
   ],
   "source": [
    "slist=[\"a\",\"b\",\"c\",\"d\"]\n",
    "slist.append(\"e\")\n",
    "print(slist)\n",
    "slist.extend(\"f\")\n",
    "print(slist)"
   ]
  },
  {
   "cell_type": "code",
   "execution_count": 83,
   "metadata": {},
   "outputs": [
    {
     "name": "stdout",
     "output_type": "stream",
     "text": [
      "['a', 'b', 'c', 'd', ['e', 'f']]\n",
      "['a', 'b', 'c', 'd', ['e', 'f'], 'g', 'h']\n",
      "['a', 'b', ['i', 'j'], 'c', 'd', ['e', 'f'], 'g', 'h']\n"
     ]
    }
   ],
   "source": [
    "slist=[\"a\",\"b\",\"c\",\"d\"]\n",
    "slist.append([\"e\", \"f\"]) # 한개의 데이터로 처리\n",
    "print(slist)\n",
    "slist.extend([\"g\", \"h\"]) # 낱개의 데이터로 처리\n",
    "print(slist)\n",
    "slist.insert(2, [\"i\",\"j\"]) # 특정 위치에 한개의 데이터로 처리\n",
    "print(slist)"
   ]
  },
  {
   "cell_type": "markdown",
   "metadata": {},
   "source": [
    "리스트 삭제"
   ]
  },
  {
   "cell_type": "code",
   "execution_count": 89,
   "metadata": {},
   "outputs": [
    {
     "name": "stdout",
     "output_type": "stream",
     "text": [
      "['a', 'b', 'c', 'd']\n"
     ]
    }
   ],
   "source": [
    "slist=[\"a\",\"b\",\"c\",\"d\", \"b\"]\n",
    "#slist.remove(\"b\") # 같은 값을 찾아서 삭제\n",
    "#del slist[1] # 지정된 index(위치) 삭제\n",
    "slist.pop() # 마지막 데이터 삭제\n",
    "print(slist)"
   ]
  },
  {
   "cell_type": "code",
   "execution_count": null,
   "metadata": {},
   "outputs": [],
   "source": [
    "# slist=[\"a\",\"b\",\"c\",\"d\", \"b\"]\n",
    "slist=\"a\"\n",
    "dir(slist) # 괄호 안의 형식이 같고 있는 정보(함수 등) "
   ]
  },
  {
   "cell_type": "markdown",
   "metadata": {},
   "source": [
    "# 튜플 Test"
   ]
  },
  {
   "cell_type": "markdown",
   "metadata": {},
   "source": [
    "여러 데이터를 수정없이 관리;추가, 수정, 삭제 불가 -> 검색만 가능"
   ]
  },
  {
   "cell_type": "code",
   "execution_count": 101,
   "metadata": {},
   "outputs": [
    {
     "name": "stdout",
     "output_type": "stream",
     "text": [
      "3\n",
      "(1, 2)\n",
      "(3, 'a', 'b', ['x', 'y'])\n",
      "(1, 2)\n",
      "y\n",
      "('b', ['x', 'y'])\n",
      "(1, 2, 3, 'a', 'b', ['x', 'y'], 4, 5, 6)\n",
      "(4, 5, 6, 4, 5, 6, 4, 5, 6)\n"
     ]
    }
   ],
   "source": [
    "mytuple=(1,2,3,\"a\",\"b\",['x','y'])\n",
    "print(mytuple[2])\n",
    "print(mytuple[0:2])\n",
    "print(mytuple[2:])\n",
    "print(mytuple[:2])\n",
    "print(mytuple[5][1])\n",
    "print(mytuple[-2:])\n",
    "myt2=(4,5,6)\n",
    "print(mytuple+myt2)\n",
    "print(myt2*3)"
   ]
  },
  {
   "cell_type": "code",
   "execution_count": 111,
   "metadata": {},
   "outputs": [
    {
     "name": "stdout",
     "output_type": "stream",
     "text": [
      "<class 'list'> [4, 5, 6]\n",
      "[4, 5, 6, 7]\n",
      "<class 'tuple'> (4, 5, 6, 7)\n"
     ]
    }
   ],
   "source": [
    "my3=list(myt2)\n",
    "print(type(my3), my3)\n",
    "my3.append(7)\n",
    "print(my3)\n",
    "my4=tuple(my3)\n",
    "print(type(my4), my4)"
   ]
  },
  {
   "cell_type": "markdown",
   "metadata": {},
   "source": [
    "# Set Test"
   ]
  },
  {
   "cell_type": "markdown",
   "metadata": {},
   "source": [
    "set은 여러 데이터를 순서 없이, 중복되지 않게 관리"
   ]
  },
  {
   "cell_type": "code",
   "execution_count": 119,
   "metadata": {},
   "outputs": [
    {
     "name": "stdout",
     "output_type": "stream",
     "text": [
      "{1, 2, 3, 4}\n"
     ]
    }
   ],
   "source": [
    "myset={1,2,3}\n",
    "myset.add(4)\n",
    "print(myset)"
   ]
  },
  {
   "cell_type": "code",
   "execution_count": 118,
   "metadata": {},
   "outputs": [
    {
     "name": "stdout",
     "output_type": "stream",
     "text": [
      "1\n",
      "2\n",
      "3\n",
      "4\n"
     ]
    }
   ],
   "source": [
    "for my in myset:\n",
    "    print(my)"
   ]
  },
  {
   "cell_type": "code",
   "execution_count": 122,
   "metadata": {},
   "outputs": [
    {
     "name": "stdout",
     "output_type": "stream",
     "text": [
      "{1, 3}\n"
     ]
    }
   ],
   "source": [
    "myset={1,2,3}\n",
    "myset.remove(2)\n",
    "print(myset)"
   ]
  },
  {
   "cell_type": "code",
   "execution_count": 124,
   "metadata": {},
   "outputs": [
    {
     "name": "stdout",
     "output_type": "stream",
     "text": [
      "[1, 3]\n",
      "[1, 3, 2, 3, 4, 5, 6]\n",
      "{1, 2, 3, 4, 5, 6}\n",
      "(1, 3, 2, 3, 4, 5, 6)\n"
     ]
    }
   ],
   "source": [
    "my5=list(myset)\n",
    "print(my5)\n",
    "my5.extend([2,3,4,5,6])\n",
    "print(my5)\n",
    "print(set(my5))\n",
    "print(tuple(my5))"
   ]
  },
  {
   "cell_type": "code",
   "execution_count": 27,
   "metadata": {},
   "outputs": [
    {
     "name": "stdout",
     "output_type": "stream",
     "text": [
      "[[1, 2, 3, 4, 5, 77]]\n"
     ]
    }
   ],
   "source": [
    "mylist=[[1,2,3,4,5]]\n",
    "#mylist[0].append(77)\n",
    "mylist[0].insert(len(mylist[0]),77)\n",
    "print(mylist)"
   ]
  },
  {
   "cell_type": "code",
   "execution_count": 30,
   "metadata": {},
   "outputs": [
    {
     "name": "stdout",
     "output_type": "stream",
     "text": [
      "{2, 3, 4, 5, 6, 7}\n",
      "{2, 3}\n",
      "{4, 5}\n",
      "{4, 5, 6, 7}\n"
     ]
    }
   ],
   "source": [
    "a={2,3,4,5}\n",
    "b={2,3,6,7}\n",
    "print(a|b) #합집합\n",
    "print(a&b) #교집합\n",
    "print(a-b) #차집합\n",
    "print(a^b) #교집합의 여집합"
   ]
  },
  {
   "cell_type": "code",
   "execution_count": 130,
   "metadata": {},
   "outputs": [
    {
     "name": "stdout",
     "output_type": "stream",
     "text": [
      "[1, 2, 3, 5, 7, 8, 9, 11]\n"
     ]
    }
   ],
   "source": [
    "s=[1,2,3,5,3,2,9,8,11,7,5,1]\n",
    "s1=set(s)\n",
    "s=list(s1)\n",
    "print(s)"
   ]
  },
  {
   "cell_type": "code",
   "execution_count": 192,
   "metadata": {},
   "outputs": [
    {
     "name": "stdout",
     "output_type": "stream",
     "text": [
      "[1, '+', 1, 2, '+', 1, 2, 3, '+', 1, 2, 3, 4, '+', 1, 2, 3, 4, 5, '+', 1, 2, 3, 4, 5, 6, '+', 1, 2, 3, 4, 5, 6, 7, '+', 1, 2, 3, 4, 5, 6, 7, 8, '+', 1, 2, 3, 4, 5, 6, 7, 8, 9, '+', 1, 2, 3, 4, 5, 6, 7, 8, 9, 10, '+']\n"
     ]
    }
   ],
   "source": [
    "\n",
    "result1=0\n",
    "ltest1=[]\n",
    "stest=\"\"\n",
    "for i in range(1,11):\n",
    "    for j in range(1,i+1):\n",
    "        result1+=j\n",
    "        ltest1.append(j)\n",
    "    #stest=''.join(ltest1)\n",
    "    ltest1.append(\"+\")\n",
    "    #print(result1)\n",
    "print(ltest1)"
   ]
  }
 ],
 "metadata": {
  "kernelspec": {
   "display_name": "Python 3",
   "language": "python",
   "name": "python3"
  },
  "language_info": {
   "codemirror_mode": {
    "name": "ipython",
    "version": 3
   },
   "file_extension": ".py",
   "mimetype": "text/x-python",
   "name": "python",
   "nbconvert_exporter": "python",
   "pygments_lexer": "ipython3",
   "version": "3.7.3"
  }
 },
 "nbformat": 4,
 "nbformat_minor": 2
}
