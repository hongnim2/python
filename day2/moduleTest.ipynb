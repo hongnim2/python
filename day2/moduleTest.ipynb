{
 "cells": [
  {
   "cell_type": "code",
   "execution_count": 1,
   "metadata": {},
   "outputs": [],
   "source": [
    "def ff():\n",
    "    print(\"mmmm\")"
   ]
  },
  {
   "cell_type": "code",
   "execution_count": 3,
   "metadata": {},
   "outputs": [
    {
     "name": "stdout",
     "output_type": "stream",
     "text": [
      "mmmm\n"
     ]
    }
   ],
   "source": [
    "ff()"
   ]
  },
  {
   "cell_type": "code",
   "execution_count": 11,
   "metadata": {
    "scrolled": true
   },
   "outputs": [
    {
     "name": "stdout",
     "output_type": "stream",
     "text": [
      "35\n",
      "9\n",
      "0\n",
      "5.833333333333333\n",
      "myMath\n",
      "__main__\n"
     ]
    }
   ],
   "source": [
    "import myMath\n",
    "data=[5,6,7,8,9,0]\n",
    "result=myMath.mysum(data)\n",
    "print(result)\n",
    "result=myMath.mymax(data)\n",
    "print(result)\n",
    "result=myMath.mymin(data)\n",
    "print(result)\n",
    "result=myMath.myavg(data)\n",
    "print(result)\n",
    "myMath.printname()\n",
    "print(__name__)"
   ]
  },
  {
   "cell_type": "code",
   "execution_count": 13,
   "metadata": {},
   "outputs": [
    {
     "name": "stdout",
     "output_type": "stream",
     "text": [
      "35\n",
      "9\n",
      "0\n",
      "5.833333333333333\n",
      "myMath\n",
      "__main__\n"
     ]
    }
   ],
   "source": [
    "import myMath as m\n",
    "data=[5,6,7,8,9,0]\n",
    "result=m.mysum(data)\n",
    "print(result)\n",
    "result=m.mymax(data)\n",
    "print(result)\n",
    "result=m.mymin(data)\n",
    "print(result)\n",
    "result=m.myavg(data)\n",
    "print(result)\n",
    "m.printname()\n",
    "print(__name__)"
   ]
  }
 ],
 "metadata": {
  "kernelspec": {
   "display_name": "Python 3",
   "language": "python",
   "name": "python3"
  },
  "language_info": {
   "codemirror_mode": {
    "name": "ipython",
    "version": 3
   },
   "file_extension": ".py",
   "mimetype": "text/x-python",
   "name": "python",
   "nbconvert_exporter": "python",
   "pygments_lexer": "ipython3",
   "version": "3.7.3"
  }
 },
 "nbformat": 4,
 "nbformat_minor": 2
}
