{
 "cells": [
  {
   "cell_type": "code",
   "execution_count": 6,
   "metadata": {},
   "outputs": [],
   "source": [
    "def ff():\n",
    "    print(\"mmmm\")"
   ]
  },
  {
   "cell_type": "code",
   "execution_count": 5,
   "metadata": {},
   "outputs": [
    {
     "ename": "NameError",
     "evalue": "name 'ff' is not defined",
     "output_type": "error",
     "traceback": [
      "\u001b[1;31m---------------------------------------------------------------------------\u001b[0m",
      "\u001b[1;31mNameError\u001b[0m                                 Traceback (most recent call last)",
      "\u001b[1;32m<ipython-input-5-5cdd2d0a6a88>\u001b[0m in \u001b[0;36m<module>\u001b[1;34m\u001b[0m\n\u001b[1;32m----> 1\u001b[1;33m \u001b[0mff\u001b[0m\u001b[1;33m(\u001b[0m\u001b[1;33m)\u001b[0m\u001b[1;33m\u001b[0m\u001b[1;33m\u001b[0m\u001b[0m\n\u001b[0m",
      "\u001b[1;31mNameError\u001b[0m: name 'ff' is not defined"
     ]
    }
   ],
   "source": [
    "ff()"
   ]
  },
  {
   "cell_type": "code",
   "execution_count": 12,
   "metadata": {
    "scrolled": true
   },
   "outputs": [
    {
     "name": "stdout",
     "output_type": "stream",
     "text": [
      "35\n",
      "9\n",
      "0\n",
      "5.833333333333333\n",
      "myMath\n",
      "__main__\n"
     ]
    }
   ],
   "source": [
    "import myMath\n",
    "data=[5,6,7,8,9,0]\n",
    "result=myMath.mysum(data)\n",
    "print(result)\n",
    "result=myMath.mymax(data)\n",
    "print(result)\n",
    "result=myMath.mymin(data)\n",
    "print(result)\n",
    "result=myMath.myavg(data)\n",
    "print(result)\n",
    "myMath.printname()\n",
    "print(__name__)"
   ]
  },
  {
   "cell_type": "code",
   "execution_count": 13,
   "metadata": {},
   "outputs": [
    {
     "name": "stdout",
     "output_type": "stream",
     "text": [
      "35\n",
      "9\n",
      "0\n",
      "5.833333333333333\n",
      "myMath\n",
      "__main__\n"
     ]
    }
   ],
   "source": [
    "import myMath as m\n",
    "data=[5,6,7,8,9,0]\n",
    "result=m.mysum(data)\n",
    "print(result)\n",
    "result=m.mymax(data)\n",
    "print(result)\n",
    "result=m.mymin(data)\n",
    "print(result)\n",
    "result=m.myavg(data)\n",
    "print(result)\n",
    "m.printname()\n",
    "print(__name__)"
   ]
  },
  {
   "cell_type": "code",
   "execution_count": 15,
   "metadata": {},
   "outputs": [
    {
     "data": {
      "text/plain": [
       "'D:\\\\python_work\\\\day2\\\\myMath.py'"
      ]
     },
     "execution_count": 15,
     "metadata": {},
     "output_type": "execute_result"
    }
   ],
   "source": [
    "import os\n",
    "os.path.realpath(m.__file__)"
   ]
  },
  {
   "cell_type": "code",
   "execution_count": 16,
   "metadata": {},
   "outputs": [
    {
     "data": {
      "text/plain": [
       "['D:\\\\python_work\\\\day2',\n",
       " 'C:\\\\Users\\\\vgg\\\\Anaconda3\\\\python37.zip',\n",
       " 'C:\\\\Users\\\\vgg\\\\Anaconda3\\\\DLLs',\n",
       " 'C:\\\\Users\\\\vgg\\\\Anaconda3\\\\lib',\n",
       " 'C:\\\\Users\\\\vgg\\\\Anaconda3',\n",
       " '',\n",
       " 'C:\\\\Users\\\\vgg\\\\Anaconda3\\\\lib\\\\site-packages',\n",
       " 'C:\\\\Users\\\\vgg\\\\Anaconda3\\\\lib\\\\site-packages\\\\win32',\n",
       " 'C:\\\\Users\\\\vgg\\\\Anaconda3\\\\lib\\\\site-packages\\\\win32\\\\lib',\n",
       " 'C:\\\\Users\\\\vgg\\\\Anaconda3\\\\lib\\\\site-packages\\\\Pythonwin',\n",
       " 'C:\\\\Users\\\\vgg\\\\Anaconda3\\\\lib\\\\site-packages\\\\IPython\\\\extensions',\n",
       " 'C:\\\\Users\\\\vgg\\\\.ipython']"
      ]
     },
     "execution_count": 16,
     "metadata": {},
     "output_type": "execute_result"
    }
   ],
   "source": [
    "import sys\n",
    "sys.path"
   ]
  }
 ],
 "metadata": {
  "kernelspec": {
   "display_name": "Python 3",
   "language": "python",
   "name": "python3"
  },
  "language_info": {
   "codemirror_mode": {
    "name": "ipython",
    "version": 3
   },
   "file_extension": ".py",
   "mimetype": "text/x-python",
   "name": "python",
   "nbconvert_exporter": "python",
   "pygments_lexer": "ipython3",
   "version": "3.7.3"
  }
 },
 "nbformat": 4,
 "nbformat_minor": 2
}
