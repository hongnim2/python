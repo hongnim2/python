{
 "cells": [
  {
   "cell_type": "code",
   "execution_count": 4,
   "metadata": {},
   "outputs": [
    {
     "name": "stdout",
     "output_type": "stream",
     "text": [
      "Overwriting myMath.py\n"
     ]
    }
   ],
   "source": [
    "%%writefile myMath.py\n",
    "#function\n",
    "#return total sum coming list parameter\n",
    "def mysum(data):\n",
    "    tot=0\n",
    "    for x in data:\n",
    "        tot+=x\n",
    "    return tot\n",
    "\n",
    "\n",
    "#return max value coming list parameter\n",
    "def mymax(data):\n",
    "    result=data[0]\n",
    "    for x in range(1,len(data)):\n",
    "        if result <= data[x]:\n",
    "            result=data[x]\n",
    "    return result\n",
    "\n",
    "\n",
    "#return min value coming list parameter\n",
    "def mymin(data):\n",
    "    result=data[0]\n",
    "    for x in range(1,len(data)):\n",
    "        if result >= data[x]:\n",
    "            result=data[x]\n",
    "    return result\n",
    "\n",
    "\n",
    "#return average value coming list parameter\n",
    "def myavg(data):\n",
    "    tot=mysum(data)\n",
    "    avg=tot/len(data)\n",
    "    return avg\n",
    "\n",
    "def printname():\n",
    "    print(__name__)\n",
    "\n",
    "'''\n",
    "if __name__ = \"__main__\":\n",
    "    data=[1,2,3,4,5]\n",
    "    print(mysum(data))\n",
    "    print(mymax(data))\n",
    "    print(mymin(data))\n",
    "    print(myavg(data))\n",
    "'''"
   ]
  },
  {
   "cell_type": "code",
   "execution_count": null,
   "metadata": {},
   "outputs": [],
   "source": []
  },
  {
   "cell_type": "code",
   "execution_count": null,
   "metadata": {},
   "outputs": [],
   "source": []
  }
 ],
 "metadata": {
  "kernelspec": {
   "display_name": "Python 3",
   "language": "python",
   "name": "python3"
  },
  "language_info": {
   "codemirror_mode": {
    "name": "ipython",
    "version": 3
   },
   "file_extension": ".py",
   "mimetype": "text/x-python",
   "name": "python",
   "nbconvert_exporter": "python",
   "pygments_lexer": "ipython3",
   "version": "3.7.3"
  }
 },
 "nbformat": 4,
 "nbformat_minor": 2
}
