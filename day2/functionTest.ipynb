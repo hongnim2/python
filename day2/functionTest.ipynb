{
 "cells": [
  {
   "cell_type": "markdown",
   "metadata": {},
   "source": [
    "# 함수(Function) 생성"
   ]
  },
  {
   "cell_type": "code",
   "execution_count": 2,
   "metadata": {},
   "outputs": [],
   "source": [
    "def myfun():\n",
    "    k=4+5\n",
    "    print(k)"
   ]
  },
  {
   "cell_type": "code",
   "execution_count": 4,
   "metadata": {},
   "outputs": [
    {
     "name": "stdout",
     "output_type": "stream",
     "text": [
      "9\n"
     ]
    }
   ],
   "source": [
    "myfun()"
   ]
  },
  {
   "cell_type": "code",
   "execution_count": 6,
   "metadata": {},
   "outputs": [],
   "source": [
    "# 함수2, 리턴\n",
    "def myfun2():\n",
    "    k=4+5\n",
    "    return k"
   ]
  },
  {
   "cell_type": "code",
   "execution_count": 10,
   "metadata": {},
   "outputs": [
    {
     "name": "stdout",
     "output_type": "stream",
     "text": [
      "9\n"
     ]
    }
   ],
   "source": [
    "kk=myfun2()\n",
    "print(kk)"
   ]
  },
  {
   "cell_type": "code",
   "execution_count": 11,
   "metadata": {},
   "outputs": [],
   "source": [
    "# 함수3, 리턴\n",
    "def myfun3():\n",
    "    k=4+5\n",
    "    n=4-5\n",
    "    return k, n"
   ]
  },
  {
   "cell_type": "code",
   "execution_count": 13,
   "metadata": {},
   "outputs": [
    {
     "name": "stdout",
     "output_type": "stream",
     "text": [
      "9 -1\n"
     ]
    }
   ],
   "source": [
    "kk, nn=myfun3()\n",
    "print(kk, nn)"
   ]
  },
  {
   "cell_type": "code",
   "execution_count": 15,
   "metadata": {},
   "outputs": [
    {
     "name": "stdout",
     "output_type": "stream",
     "text": [
      "1 2 3\n"
     ]
    }
   ],
   "source": [
    "n1, n2, n3 = 1, 2, 3\n",
    "print(n1, n2, n3)"
   ]
  },
  {
   "cell_type": "code",
   "execution_count": 19,
   "metadata": {},
   "outputs": [
    {
     "name": "stdout",
     "output_type": "stream",
     "text": [
      "18.5\n"
     ]
    }
   ],
   "source": [
    "#함수의 인자(parameter) 전달 방법\n",
    "# 1. 위치 인자\n",
    "def add(x,y):\n",
    "    x=x*x\n",
    "    y=y/2\n",
    "    return x+y\n",
    "\n",
    "result=add(4,5)\n",
    "print(result)"
   ]
  },
  {
   "cell_type": "code",
   "execution_count": 22,
   "metadata": {},
   "outputs": [
    {
     "name": "stdout",
     "output_type": "stream",
     "text": [
      "18.5\n",
      "19.5\n"
     ]
    }
   ],
   "source": [
    "# 2. 기본값 인자\n",
    "def add(x,y=5):\n",
    "    x=x*x\n",
    "    y=y/2\n",
    "    return x+y\n",
    "\n",
    "result=add(4)\n",
    "print(result)\n",
    "result=add(4,7)\n",
    "print(result)"
   ]
  },
  {
   "cell_type": "code",
   "execution_count": 25,
   "metadata": {},
   "outputs": [
    {
     "name": "stdout",
     "output_type": "stream",
     "text": [
      "32.0\n"
     ]
    }
   ],
   "source": [
    "# 3. 키워드 인자\n",
    "def add(x,y,z):\n",
    "    x=x*x\n",
    "    y=y/2\n",
    "    return x+y+z\n",
    "\n",
    "result=add(z=4,x=5,y=6)\n",
    "print(result)"
   ]
  },
  {
   "cell_type": "code",
   "execution_count": 26,
   "metadata": {},
   "outputs": [
    {
     "name": "stdout",
     "output_type": "stream",
     "text": [
      "32.0\n"
     ]
    }
   ],
   "source": [
    "# 4. 가변 인자\n",
    "def add(x,y,z):\n",
    "    x=x*x\n",
    "    y=y/2\n",
    "    return x+y+z\n",
    "\n",
    "result=add(z=4,x=5,y=6)\n",
    "print(result)"
   ]
  },
  {
   "cell_type": "code",
   "execution_count": 80,
   "metadata": {},
   "outputs": [
    {
     "name": "stdout",
     "output_type": "stream",
     "text": [
      "3\n"
     ]
    }
   ],
   "source": [
    "import random as r\n",
    "#a=random.randrange(1,46)\n",
    "a=r.randrange(1,46) #1~45\n",
    "print(a)"
   ]
  },
  {
   "cell_type": "code",
   "execution_count": 85,
   "metadata": {},
   "outputs": [
    {
     "name": "stdout",
     "output_type": "stream",
     "text": [
      "[5, 7, 15, 26, 36, 45]\n"
     ]
    }
   ],
   "source": [
    "def lotto():\n",
    "    aa=[]\n",
    "    for i in range(0,6):\n",
    "        a=random.randrange(1,46)\n",
    "        aa.append(a)\n",
    "        aa.sort()\n",
    "    print(aa)\n",
    "    \n",
    "lotto()"
   ]
  },
  {
   "cell_type": "code",
   "execution_count": 150,
   "metadata": {},
   "outputs": [
    {
     "name": "stdout",
     "output_type": "stream",
     "text": [
      "6\n",
      "[15, 24, 35, 36, 38, 39]\n"
     ]
    }
   ],
   "source": [
    "# 중복되지 않은 임의의 값 6개 구하기\n",
    "def lotto2():\n",
    "    result=set({})\n",
    "    cnt=0\n",
    "    while True:\n",
    "        result.add(random.randrange(1,46))\n",
    "        cnt+=1\n",
    "        if len(result)==6:\n",
    "            break\n",
    "    print(cnt)\n",
    "    return result\n",
    "    \n",
    "print(sorted(lotto2()))"
   ]
  },
  {
   "cell_type": "code",
   "execution_count": 167,
   "metadata": {},
   "outputs": [
    {
     "name": "stdout",
     "output_type": "stream",
     "text": [
      "[1, 4, 9, 18, 28, 30] 7\n"
     ]
    }
   ],
   "source": [
    "# 중복되지 않은 임의의 값 6개 구하기\n",
    "def lotto3():\n",
    "    aa=[]\n",
    "    a=0\n",
    "    cnt=0\n",
    "    while True:\n",
    "        a=random.randrange(1,46)\n",
    "        cnt+=1\n",
    "        if a in aa:\n",
    "            continue\n",
    "        aa.append(a)\n",
    "        if len(aa)==6:\n",
    "            break        \n",
    "    aa.sort()\n",
    "    print(aa, cnt)\n",
    "    \n",
    "lotto3()"
   ]
  },
  {
   "cell_type": "code",
   "execution_count": 156,
   "metadata": {},
   "outputs": [
    {
     "name": "stdout",
     "output_type": "stream",
     "text": [
      "[4, 8, 15, 32, 42, 45] 6\n"
     ]
    }
   ],
   "source": [
    "# 중복되지 않은 임의의 값 6개 구하기\n",
    "def lotto_self():\n",
    "    aa=[]\n",
    "    a=0\n",
    "    cnt=0\n",
    "    for i in range(0,6):\n",
    "        while True:\n",
    "            a=random.randrange(1,46)\n",
    "            cnt+=1\n",
    "            if a not in aa:\n",
    "                aa.append(a)\n",
    "                break\n",
    "    aa.sort()\n",
    "    print(aa, cnt)\n",
    "    \n",
    "lotto_self()"
   ]
  },
  {
   "cell_type": "markdown",
   "metadata": {},
   "source": [
    "#키보드로 부터 숫자를 입력 받아\n",
    "#3을 입력했을 경우, 3개의 로또 번호를 출력\n",
    "1:34,6,3,6,8,7\n",
    "2:~~\n",
    "3:~~~"
   ]
  },
  {
   "cell_type": "code",
   "execution_count": 180,
   "metadata": {},
   "outputs": [
    {
     "name": "stdout",
     "output_type": "stream",
     "text": [
      "로또 개수를 입력하세요 : 3\n",
      "1 : [7, 13, 25, 26, 35, 43]\n",
      "2 : [10, 19, 26, 39, 41, 42]\n",
      "3 : [12, 15, 17, 36, 37, 39]\n"
     ]
    }
   ],
   "source": [
    "def lotto3():\n",
    "    aa=[]\n",
    "    a=0\n",
    "    cnt=0\n",
    "    while True:\n",
    "        a=random.randrange(1,46)\n",
    "        cnt+=1\n",
    "        if a in aa:\n",
    "            continue\n",
    "        aa.append(a)\n",
    "        if len(aa)==6:\n",
    "            break        \n",
    "    aa.sort()\n",
    "    return aa\n",
    "    \n",
    "def numLotto():\n",
    "    num=int(input(\"로또 개수를 입력하세요 : \"))\n",
    "    numL=[]\n",
    "    for i in range(1,num+1):\n",
    "        numL.append(lotto3())\n",
    "        print(i, \":\", numL[i-1])\n",
    "    \n",
    "numLotto()"
   ]
  },
  {
   "cell_type": "code",
   "execution_count": 185,
   "metadata": {},
   "outputs": [
    {
     "name": "stdout",
     "output_type": "stream",
     "text": [
      "7\n",
      "12\n",
      "18\n",
      "25\n",
      "33\n"
     ]
    }
   ],
   "source": [
    "def add(larg):\n",
    "    tot=0\n",
    "    for x in larg:\n",
    "        tot+=x\n",
    "    return tot\n",
    "\n",
    "print(add([3,4]))\n",
    "print(add([3,4,5]))\n",
    "print(add([3,4,5,6]))\n",
    "print(add([3,4,5,6,7]))\n",
    "print(add([3,4,5,6,7,8]))"
   ]
  },
  {
   "cell_type": "code",
   "execution_count": 189,
   "metadata": {},
   "outputs": [
    {
     "name": "stdout",
     "output_type": "stream",
     "text": [
      "7\n",
      "12\n",
      "18\n",
      "25\n",
      "33\n"
     ]
    }
   ],
   "source": [
    "#가변인자 : 가변인자 뒤에서 추가 인자가 올 수 없으므로, 가변인자는 항상 마지막에 있어야 한다.\n",
    "def add(*arg): # *로 가변인자로 받으면 tuple로 받게 된다.\n",
    "    #print(type(arg))\n",
    "    tot=0\n",
    "    for x in arg:\n",
    "        tot+=x\n",
    "    return tot\n",
    "\n",
    "\n",
    "print(add(3,4))\n",
    "print(add(3,4,5))\n",
    "print(add(3,4,5,6))\n",
    "print(add(3,4,5,6,7))\n",
    "print(add(3,4,5,6,7,8))"
   ]
  },
  {
   "cell_type": "code",
   "execution_count": 205,
   "metadata": {},
   "outputs": [
    {
     "name": "stdout",
     "output_type": "stream",
     "text": [
      "13\n",
      "72\n",
      "-7\n",
      "0.125\n"
     ]
    }
   ],
   "source": [
    "def compute(op, *arg):\n",
    "    tot=arg[0]\n",
    "    if op == \"+\":\n",
    "        for x in range(1,len(arg)):\n",
    "            tot+=arg[x]\n",
    "        return tot\n",
    "    elif op == \"-\":\n",
    "        for x in range(1,len(arg)):\n",
    "            tot-=arg[x]\n",
    "        return tot\n",
    "    elif op == \"*\":\n",
    "        for x in range(1,len(arg)):\n",
    "            tot*=arg[x]\n",
    "        return tot\n",
    "    elif op == \"/\":\n",
    "        for x in range(1,len(arg)):\n",
    "            tot/=arg[x]\n",
    "        return tot\n",
    "\n",
    "print(compute(\"+\",3,4,6))\n",
    "print(compute(\"*\",3,4,6))\n",
    "print(compute(\"-\",3,4,6))\n",
    "print(compute(\"/\",3,4,6))"
   ]
  },
  {
   "cell_type": "code",
   "execution_count": 209,
   "metadata": {},
   "outputs": [
    {
     "name": "stdout",
     "output_type": "stream",
     "text": [
      "10\n"
     ]
    }
   ],
   "source": [
    "#가변인자2\n",
    "def compute(**arg): # **로 가변인자로 받으면 dict로 받게 된다.\n",
    "    tot=0\n",
    "    for key in arg:\n",
    "        tot+=arg[key]\n",
    "    return tot\n",
    "\n",
    "print(compute(x=7, y=2, z=1))"
   ]
  },
  {
   "cell_type": "markdown",
   "metadata": {},
   "source": [
    "Variable Scope : 내장변수(builtin), 전역변수(global), 지역변수(local)"
   ]
  },
  {
   "cell_type": "code",
   "execution_count": 216,
   "metadata": {},
   "outputs": [
    {
     "name": "stdout",
     "output_type": "stream",
     "text": [
      "123\n"
     ]
    }
   ],
   "source": [
    "ga=123 # 전역변수\n",
    "def fun3(a): #지역변수\n",
    "    print(ga)\n",
    "\n",
    "fun3(30)"
   ]
  },
  {
   "cell_type": "markdown",
   "metadata": {},
   "source": [
    "모듈이란"
   ]
  },
  {
   "cell_type": "code",
   "execution_count": 218,
   "metadata": {},
   "outputs": [
    {
     "name": "stdout",
     "output_type": "stream",
     "text": [
      "time.struct_time(tm_year=2019, tm_mon=7, tm_mday=9, tm_hour=16, tm_min=55, tm_sec=3, tm_wday=1, tm_yday=190, tm_isdst=0)\n",
      "오늘은 2019년 7월 9일 입니다.\n"
     ]
    }
   ],
   "source": [
    "import time\n",
    "ctime=time.localtime()\n",
    "print(ctime)\n",
    "print(\"오늘은 %d년 %d월 %d일 입니다.\" %(ctime.tm_year, ctime.tm_mon, ctime.tm_mday))"
   ]
  }
 ],
 "metadata": {
  "kernelspec": {
   "display_name": "Python 3",
   "language": "python",
   "name": "python3"
  },
  "language_info": {
   "codemirror_mode": {
    "name": "ipython",
    "version": 3
   },
   "file_extension": ".py",
   "mimetype": "text/x-python",
   "name": "python",
   "nbconvert_exporter": "python",
   "pygments_lexer": "ipython3",
   "version": "3.7.3"
  }
 },
 "nbformat": 4,
 "nbformat_minor": 2
}
