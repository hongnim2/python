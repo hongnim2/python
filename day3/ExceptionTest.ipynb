{
 "cells": [
  {
   "cell_type": "code",
   "execution_count": 1,
   "metadata": {},
   "outputs": [
    {
     "ename": "SyntaxError",
     "evalue": "invalid syntax (<ipython-input-1-67a155687d1a>, line 11)",
     "output_type": "error",
     "traceback": [
      "\u001b[1;36m  File \u001b[1;32m\"<ipython-input-1-67a155687d1a>\"\u001b[1;36m, line \u001b[1;32m11\u001b[0m\n\u001b[1;33m    언 가능.\u001b[0m\n\u001b[1;37m       ^\u001b[0m\n\u001b[1;31mSyntaxError\u001b[0m\u001b[1;31m:\u001b[0m invalid syntax\n"
     ]
    }
   ],
   "source": [
    "print('=== 1===')\n",
    "f=None\n",
    "try: # 예외(=에러)가 발생할지도 모른느 코드\n",
    "    f=open(\"data.txt\",\"r\")\n",
    "    print('=== 2===')\n",
    "    for x in f:\n",
    "        print(x)\n",
    "    raise SystemExit #error발생(프로그램 종료)\n",
    "    print('=== 3===')\n",
    "except FileNotFoundError: # 예외(=에러) 클래스가 발생했다면 수행. 복수의 except 선\n",
    "    언 가능.\n",
    "    print(\"===exception===\")\n",
    "finally: #에러 발생해도 수행 -> 자원반납 코드 처리\n",
    "    print(\"===finally===\")\n",
    "    if f!=None:\n",
    "        f.close()\n",
    "print('=== 4===')"
   ]
  },
  {
   "cell_type": "code",
   "execution_count": 1,
   "metadata": {},
   "outputs": [],
   "source": [
    "#사용자 정의 예외\n",
    "class ValueException(Exception): #사용자가 만든 예외 클래스\n",
    "    def __init__(self, msg):\n",
    "        self.msg=msg\n",
    "        \n",
    "def mysum(mList):\n",
    "    tot=0\n",
    "    for d in mList:\n",
    "        tot+=d\n",
    "    if tot<0:\n",
    "        raise ValueException(\"음수 발생\") # 예외발생 시킴\n",
    "    return tot"
   ]
  },
  {
   "cell_type": "code",
   "execution_count": 8,
   "metadata": {},
   "outputs": [
    {
     "name": "stdout",
     "output_type": "stream",
     "text": [
      "매니저에게 연락 요망\n",
      "음수 발생\n"
     ]
    }
   ],
   "source": [
    "data=[-5,-10,1,2,4]\n",
    "try:\n",
    "    result=mysum(data)\n",
    "    print(result)\n",
    "except ValueException as e:\n",
    "    print(\"매니저에게 연락 요망\")\n",
    "    print(e)"
   ]
  }
 ],
 "metadata": {
  "kernelspec": {
   "display_name": "Python 3",
   "language": "python",
   "name": "python3"
  },
  "language_info": {
   "codemirror_mode": {
    "name": "ipython",
    "version": 3
   },
   "file_extension": ".py",
   "mimetype": "text/x-python",
   "name": "python",
   "nbconvert_exporter": "python",
   "pygments_lexer": "ipython3",
   "version": "3.7.3"
  }
 },
 "nbformat": 4,
 "nbformat_minor": 2
}
