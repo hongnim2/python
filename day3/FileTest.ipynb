{
 "cells": [
  {
   "cell_type": "code",
   "execution_count": 4,
   "metadata": {},
   "outputs": [
    {
     "name": "stdout",
     "output_type": "stream",
     "text": [
      "학번:1001 \t이름:kim \t총점: 277 \t평균:92.33\n",
      "40  속도로 달립니다\n",
      "Car: 차량변호33나1234 가격:3000 모델:volvo\n"
     ]
    }
   ],
   "source": [
    "from myClass import Student\n",
    "s1=Student(1001,\"kim\",90,87,100)\n",
    "print(s1)\n",
    "\n",
    "from myClass import Car\n",
    "c=Car(\"33나1234\",3000,\"volvo\")\n",
    "c.drive(40)\n",
    "print(c)"
   ]
  },
  {
   "cell_type": "code",
   "execution_count": 14,
   "metadata": {},
   "outputs": [],
   "source": [
    "f=open(\"data.txt\",\"w\")\n",
    "f.write(\"hello python\\n\")\n",
    "f.write(\"test for file r/w\")\n",
    "f.close()"
   ]
  },
  {
   "cell_type": "code",
   "execution_count": 19,
   "metadata": {},
   "outputs": [
    {
     "name": "stdout",
     "output_type": "stream",
     "text": [
      "['hello python\\n', 'test for file r/w']\n"
     ]
    }
   ],
   "source": [
    "f2=open(\"data.txt\",\"r\")\n",
    "#print(f2.read())\n",
    "result=f2.readlines() # 데이터를 리스트로 반환\n",
    "print(result)\n",
    "'''\n",
    "for m in f2:\n",
    "    print(m.strip())\n",
    "'''\n",
    "f2.close()\n",
    "f3=open(\"data.txt\",\"w\")\n",
    "f3.writelines(result) #리스트를 파일에 저장\n",
    "f3.close()"
   ]
  },
  {
   "cell_type": "code",
   "execution_count": 47,
   "metadata": {},
   "outputs": [
    {
     "name": "stdout",
     "output_type": "stream",
     "text": [
      "학생정보를 입력하세요(학번, 이름, 국어, 영어, 수학): 1,kim,12,12,12\n"
     ]
    }
   ],
   "source": [
    "#키보드로 5번 입력받아 파일에 저장\n",
    "from myClass import *\n",
    "f=open(\"profile.txt\",\"w\",\"utf-8\")\n",
    "\n",
    "for i in range(0,1):\n",
    "    inData=input(\"학생정보를 입력하세요(학번, 이름, 국어, 영어, 수학): \")\n",
    "    pData=inData.strip().split(\",\")\n",
    "    for d in pData:\n",
    "        f.write(d)\n",
    "        f.write(\",\")\n",
    "    f.write(\"\\n\")\n",
    "f.close()"
   ]
  },
  {
   "cell_type": "code",
   "execution_count": 49,
   "metadata": {},
   "outputs": [
    {
     "name": "stdout",
     "output_type": "stream",
     "text": [
      "학번:1 \t이름:kim \t총점:  36 \t평균:12.00\n"
     ]
    }
   ],
   "source": [
    "from myClass import *\n",
    "f=open(\"profile.txt\",\"r\")\n",
    "result=[]\n",
    "for x in f:\n",
    "    data=x.strip().split(\",\")\n",
    "    data2=[int(d) if d.isdigit() else d for d in data]\n",
    "    result.append(Student(data2[0],data2[1],data2[2],data2[3],data2[4],))\n",
    "result.sort(key=lambda x: x.avg(), reverse=True)\n",
    "for s in result:    \n",
    "    print(s)"
   ]
  }
 ],
 "metadata": {
  "kernelspec": {
   "display_name": "Python 3",
   "language": "python",
   "name": "python3"
  },
  "language_info": {
   "codemirror_mode": {
    "name": "ipython",
    "version": 3
   },
   "file_extension": ".py",
   "mimetype": "text/x-python",
   "name": "python",
   "nbconvert_exporter": "python",
   "pygments_lexer": "ipython3",
   "version": "3.7.3"
  }
 },
 "nbformat": 4,
 "nbformat_minor": 2
}
