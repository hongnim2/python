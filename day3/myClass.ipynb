{
 "cells": [
  {
   "cell_type": "code",
   "execution_count": 2,
   "metadata": {},
   "outputs": [
    {
     "name": "stdout",
     "output_type": "stream",
     "text": [
      "Overwriting myClass.py\n"
     ]
    }
   ],
   "source": [
    "%%writefile myClass.py\n",
    "\n",
    "class Student: # 상속받는게 아니라면, ()는 불요\n",
    "    def __init__(self, num, name, kor, eng, mat):\n",
    "        self.num=num\n",
    "        self.name=name\n",
    "        self.kor=kor\n",
    "        self.eng=eng\n",
    "        self.mat=mat\n",
    "        \n",
    "    def sum(self):\n",
    "        return self.kor+self.eng+self.mat\n",
    "        \n",
    "    def avg(self):\n",
    "        return self.sum()/3\n",
    "    \n",
    "    def __str__(self):\n",
    "        #return \"번호: \"+str(self.num)+\" 이름: \"+self.name+\" 국어: \"+str(self.kor)+\" 영어: \"+str(self.eng)+\" 수학: \"+str(self.mat)\\\n",
    "        return \"학번:%d \\t이름:%s \\t총점:%4d \\t평균:%.2f\"%(self.num, self.name, self.sum(), self.avg())\n",
    "    \n",
    "# Encapsulation\n",
    "class Car():\n",
    "    def __init__(self, num, price, model): #변수의 값 설정\n",
    "        self.num = num\n",
    "        self.price = price\n",
    "        self.model = model\n",
    "        \n",
    "    def setNum(self, num): # num값을 수정할 때 사용\n",
    "        if len(num)==7:\n",
    "            self.__num=num\n",
    "        else:\n",
    "            print(\"차량변호 형식 오류\")\n",
    "        \n",
    "    def getNum(self): # num값을 검색할 때 사용\n",
    "        return self.num\n",
    "        \n",
    "    def drive(self, speed):\n",
    "        print(speed, \" 속도로 달립니다\")\n",
    "        \n",
    "    def getPrice(self):\n",
    "        return self.price\n",
    "    \n",
    "    def __str__(self): # 이 클래스의 정보 문자열을 리턴\n",
    "        return \"Car: 차량변호\"+self.num+\" 가격:\"+str(self.price)+\" 모델:\"+self.model\n",
    "        #print(\"Car: 차량번호{}, 가격:{}, 모델:{}\".format(self.num, self.price, self.model))        \n",
    "\n",
    "#inheritage\n",
    "class Bus(Car):\n",
    "    def __init__(self, num, price, model, seat):\n",
    "        #super().__init__(num, price, model)\n",
    "        Car.__init__(self, num, price, model)\n",
    "        self.seat=seat\n",
    "        \n",
    "    def drive(self, speed):\n",
    "        print(\"버스가 \",speed*0.9,\" 속도로 달립니다\")\n",
    "        \n",
    "    def autoDoor(self, flag):\n",
    "        if flag:\n",
    "            print(\"open the door\")\n",
    "        else:\n",
    "            print(\"close the door\")\n",
    "            \n",
    "    def __str__(self):\n",
    "        return super().__str__()+\" 좌석:\"+str(self.seat)"
   ]
  }
 ],
 "metadata": {
  "kernelspec": {
   "display_name": "Python 3",
   "language": "python",
   "name": "python3"
  },
  "language_info": {
   "codemirror_mode": {
    "name": "ipython",
    "version": 3
   },
   "file_extension": ".py",
   "mimetype": "text/x-python",
   "name": "python",
   "nbconvert_exporter": "python",
   "pygments_lexer": "ipython3",
   "version": "3.7.3"
  }
 },
 "nbformat": 4,
 "nbformat_minor": 2
}
