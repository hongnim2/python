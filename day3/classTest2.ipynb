{
 "cells": [
  {
   "cell_type": "code",
   "execution_count": 22,
   "metadata": {},
   "outputs": [],
   "source": [
    "# Encapsulation\n",
    "class Car():\n",
    "    def __init__(self, num, price, model): #변수의 값 설정\n",
    "        self.num = num\n",
    "        self.price = price\n",
    "        self.model = model\n",
    "        \n",
    "    def setNum(self, num): # num값을 수정할 때 사용\n",
    "        if len(num)==7:\n",
    "            self.__num=num\n",
    "        else:\n",
    "            print(\"차량변호 형식 오류\")\n",
    "        \n",
    "    def getNum(self): # num값을 검색할 때 사용\n",
    "        return self.num\n",
    "        \n",
    "    def drive(self, speed):\n",
    "        print(speed, \" 속도로 달립니다\")\n",
    "        \n",
    "    def getPrice(self):\n",
    "        return self.price\n",
    "    \n",
    "    def __str__(self): # 이 클래스의 정보 문자열을 리턴\n",
    "        return \"Car: 차량변호\"+self.num+\" 가격:\"+str(self.price)+\" 모델:\"+self.model\n",
    "        #print(\"Car: 차량번호{}, 가격:{}, 모델:{}\".format(self.num, self.price, self.model))        "
   ]
  },
  {
   "cell_type": "code",
   "execution_count": 13,
   "metadata": {},
   "outputs": [],
   "source": [
    "c=Car(\"33나2311\",8000,\"소나타\")\n",
    "c.setNum(\"33나1212\")"
   ]
  },
  {
   "cell_type": "code",
   "execution_count": 27,
   "metadata": {},
   "outputs": [],
   "source": [
    "#inheritage\n",
    "class Bus(Car):\n",
    "    def __init__(self, num, price, model, seat):\n",
    "        #super().__init__(num, price, model)\n",
    "        Car.__init__(self, num, price, model)\n",
    "        self.seat=seat\n",
    "        \n",
    "    def drive(self, speed):\n",
    "        print(\"버스가 \",speed*0.9,\" 속도로 달립니다\")\n",
    "        \n",
    "    def autoDoor(self, flag):\n",
    "        if flag:\n",
    "            print(\"open the door\")\n",
    "        else:\n",
    "            print(\"close the door\")\n",
    "            \n",
    "    def __str__(self):\n",
    "        return super().__str__()+\" 좌석:\"+str(self.seat)"
   ]
  },
  {
   "cell_type": "code",
   "execution_count": 29,
   "metadata": {},
   "outputs": [
    {
     "name": "stdout",
     "output_type": "stream",
     "text": [
      "Car: 차량변호33나2311 가격:8000 모델:소나타\n",
      "Car: 차량변호33가1234 가격:900 모델:volvo 좌석:13\n"
     ]
    }
   ],
   "source": [
    "c=Car(\"33나2311\",8000,\"소나타\")\n",
    "print(c)\n",
    "b=Bus(\"33가1234\",900,\"volvo\",13)\n",
    "print(b)"
   ]
  },
  {
   "cell_type": "code",
   "execution_count": 43,
   "metadata": {},
   "outputs": [
    {
     "name": "stdout",
     "output_type": "stream",
     "text": [
      "100  속도로 달립니다\n",
      "Car: 차량변호12나1212 가격:200 모델:비틀비틀\n",
      "버스가  90.0  속도로 달립니다\n",
      "Car: 차량변호33가1234 가격:900 모델:volvo 좌석:13\n",
      "버스가  90.0  속도로 달립니다\n",
      "Car: 차량변호33가1234 가격:900 모델:volvo 좌석:13\n",
      "버스가  90.0  속도로 달립니다\n",
      "Car: 차량변호12나1212 가격:2000 모델:비틀비틀 좌석:40\n"
     ]
    }
   ],
   "source": [
    "carList=[]\n",
    "carList.append(c)\n",
    "carList.append(b)\n",
    "carList.append(Car(\"12나1212\",200,\"비틀비틀\"))\n",
    "carList.append(Bus(\"12나1212\",2000,\"비틀비틀\",40))\n",
    "\n",
    "carList.sort(key=lambda x : x.price)\n",
    "\n",
    "for c in carList:\n",
    "    c.drive(100) #polymorphism: 다형성\n",
    "    print(c)"
   ]
  }
 ],
 "metadata": {
  "kernelspec": {
   "display_name": "Python 3",
   "language": "python",
   "name": "python3"
  },
  "language_info": {
   "codemirror_mode": {
    "name": "ipython",
    "version": 3
   },
   "file_extension": ".py",
   "mimetype": "text/x-python",
   "name": "python",
   "nbconvert_exporter": "python",
   "pygments_lexer": "ipython3",
   "version": "3.7.3"
  }
 },
 "nbformat": 4,
 "nbformat_minor": 2
}
