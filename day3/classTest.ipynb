{
 "cells": [
  {
   "cell_type": "code",
   "execution_count": 19,
   "metadata": {},
   "outputs": [],
   "source": [
    "class Car():\n",
    "    def __init__(self, num, price, model): #변수의 값 설정\n",
    "        self.num = num\n",
    "        self.price = price\n",
    "        self.model = model\n",
    "        \n",
    "    def drive(self, speed):\n",
    "        print(speed, \" 속도로 달립니다\")\n",
    "        \n",
    "    def getPrice(self):\n",
    "        return self.price\n",
    "    \n",
    "    def __str__(self): # 이 클래스의 정보 문자열을 리턴\n",
    "        return \"Car: 차량변호\"+self.num+\" 가격:\"+str(self.price)+\" 모델:\"+self.model\n",
    "        #print(\"Car: 차량번호{}, 가격:{}, 모델:{}\".format(self.num, self.price, self.model))        "
   ]
  },
  {
   "cell_type": "code",
   "execution_count": 22,
   "metadata": {},
   "outputs": [
    {
     "name": "stdout",
     "output_type": "stream",
     "text": [
      "Car: 차량변호12가1234 가격:500 모델:아반테\n",
      "Car: 차량변호12가1234 가격:500 모델:아반테\n",
      "Car: 차량변호23나2345 가격:1000 모델:솜사탕\n"
     ]
    }
   ],
   "source": [
    "car_a=Car(\"12가1234\", 500, \"아반테\") # __init__()\n",
    "print(car_a.__str__()) # __str__()\n",
    "print(car_a)\n",
    "car_b=Car(\"23나2345\",1000,\"솜사탕\")\n",
    "print(car_b)"
   ]
  },
  {
   "cell_type": "code",
   "execution_count": 45,
   "metadata": {},
   "outputs": [],
   "source": [
    "class student():\n",
    "    def __init__(self, num, name, kor, eng, mat):\n",
    "        self.num=num\n",
    "        self.name=name\n",
    "        self.kor=kor\n",
    "        self.eng=eng\n",
    "        self.mat=mat\n",
    "        \n",
    "    def sum(self):\n",
    "        return self.kor+self.eng+self.mat\n",
    "        \n",
    "    def avg(self):\n",
    "        return self.sum()/3\n",
    "    \n",
    "    def __str__(self):\n",
    "        #return \"번호: \"+str(self.num)+\" 이름: \"+self.name+\" 국어: \"+str(self.kor)+\" 영어: \"+str(self.eng)+\" 수학: \"+str(self.mat)\\\n",
    "        return \"학번:%d \\t이름:%s \\t총점:%4d \\t평균:%.2f\"%(self.num, self.name, self.sum(), self.avg())"
   ]
  },
  {
   "cell_type": "code",
   "execution_count": 53,
   "metadata": {},
   "outputs": [
    {
     "name": "stdout",
     "output_type": "stream",
     "text": [
      "학번:1 \t이름:홍길동 \t총점:  30 \t평균:10.00\n",
      "30\n",
      "10.0\n",
      "학번:2 \t이름:김철수 \t총점: 150 \t평균:50.00\n",
      "150\n",
      "50.0\n"
     ]
    }
   ],
   "source": [
    "s1=student(1,\"홍길동\",10,10,10)\n",
    "s2=student(2,\"김철수\",40,50,60)\n",
    "print(s1)\n",
    "print(s1.sum())\n",
    "print(s1.avg())\n",
    "print(s2)\n",
    "print(s2.sum())\n",
    "print(s2.avg())\n"
   ]
  },
  {
   "cell_type": "code",
   "execution_count": 55,
   "metadata": {},
   "outputs": [
    {
     "name": "stdout",
     "output_type": "stream",
     "text": [
      "학번:2 \t이름:김철수 \t총점: 150 \t평균:50.00\n",
      "학번:1 \t이름:홍길동 \t총점:  30 \t평균:10.00\n"
     ]
    }
   ],
   "source": [
    "slist=[]\n",
    "slist.append(s1)\n",
    "slist.append(s2)\n",
    "\n",
    "slist.sort(key=lambda student : student.sum(), reverse=True)\n",
    "for x in slist:\n",
    "    print(x)"
   ]
  },
  {
   "cell_type": "code",
   "execution_count": null,
   "metadata": {},
   "outputs": [],
   "source": []
  }
 ],
 "metadata": {
  "kernelspec": {
   "display_name": "Python 3",
   "language": "python",
   "name": "python3"
  },
  "language_info": {
   "codemirror_mode": {
    "name": "ipython",
    "version": 3
   },
   "file_extension": ".py",
   "mimetype": "text/x-python",
   "name": "python",
   "nbconvert_exporter": "python",
   "pygments_lexer": "ipython3",
   "version": "3.7.3"
  }
 },
 "nbformat": 4,
 "nbformat_minor": 2
}
