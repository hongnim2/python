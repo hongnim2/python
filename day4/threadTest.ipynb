{
 "cells": [
  {
   "cell_type": "code",
   "execution_count": 3,
   "metadata": {},
   "outputs": [
    {
     "name": "stdout",
     "output_type": "stream",
     "text": [
      "clientA - 지연 0.6 \n",
      "clientB - 지연 1 \n",
      "clientC - 지연 2 \n",
      "clientA - 지연 0.6 \n",
      "clientB - 지연 1 \n",
      "clientA - 지연 0.6 \n",
      "clientB - 지연 1 \n",
      "clientC - 지연 2 \n",
      "clientC - 지연 2 \n"
     ]
    }
   ],
   "source": [
    "import threading\n",
    "import time\n",
    "\n",
    "# 쓰레드에게 할일을 함수로 구현\n",
    "def client_thread(clientname, sec):\n",
    "    for x in range(3):\n",
    "        print(\"{} - 지연 {} \".format(clientname, sec))\n",
    "        time.sleep(sec)\n",
    "\n",
    "clientA = threading.Thread(target=client_thread, args=(\"clientA\", 0.6))\n",
    "clientB = threading.Thread(target=client_thread, args=(\"clientB\", 1))\n",
    "clientC = threading.Thread(target=client_thread, args=(\"clientC\", 2))\n",
    "clientA.start()\n",
    "clientB.start()\n",
    "clientC.start()"
   ]
  },
  {
   "cell_type": "code",
   "execution_count": 4,
   "metadata": {},
   "outputs": [
    {
     "name": "stdout",
     "output_type": "stream",
     "text": [
      "clientA - 지연 0.5 \n",
      "clientB - 지연 0.9 \n",
      "clientC - 지연 2 \n",
      "clientA - 지연 0.5 \n",
      "clientB - 지연 0.9 \n",
      "clientA - 지연 0.5 \n",
      "clientB - 지연 0.9 \n",
      "clientC - 지연 2 \n",
      "clientC - 지연 2 \n"
     ]
    }
   ],
   "source": [
    "# 쓰레드에게 할일을 클래스로 구현\n",
    "import threading\n",
    "import time\n",
    "\n",
    "class client_thread():\n",
    "    def __init__(self, clientname, sec):\n",
    "        self.clientname = clientname\n",
    "        self.sec = sec\n",
    "    def __call__(self):     # 쓰레드에 의해 자동 호출\n",
    "        for x in range(3):\n",
    "            print(\"{} - 지연 {} \".format(self.clientname, self.sec))\n",
    "            time.sleep(self.sec)\n",
    "\n",
    "clientA = threading.Thread(target = client_thread(\"clientA\", 0.5))\n",
    "clientB = threading.Thread(target = client_thread(\"clientB\", 0.9))\n",
    "clientC = threading.Thread(target = client_thread(\"clientC\", 2))\n",
    "clientA.start()\n",
    "clientB.start()\n",
    "clientC.start()"
   ]
  },
  {
   "cell_type": "code",
   "execution_count": 5,
   "metadata": {},
   "outputs": [
    {
     "name": "stdout",
     "output_type": "stream",
     "text": [
      "clientA - 지연 2 \n",
      "clientB - 지연 0.5 \n",
      "clientC - 지연 2 \n",
      "clientB - 지연 0.5 \n",
      "clientB - 지연 0.5 \n",
      "clientA - 지연 2 \n",
      "clientC - 지연 2 \n",
      "clientA - 지연 2 \n",
      "clientC - 지연 2 \n"
     ]
    }
   ],
   "source": [
    "# 쓰레드 상속받아 쓰레드 직접 구현하면서 할일 구현\n",
    "\n",
    "import threading\n",
    "import time\n",
    "\n",
    "class client_thread(threading.Thread):      #쓰레드 상속\n",
    "    def __init__(self, clientname, sec):\n",
    "        threading.Thread.__init__(self)\n",
    "        self.clientname = clientname\n",
    "        self.sec = sec\n",
    "    def run(self):                      #쓰레드가 할일\n",
    "        for x in range(3):\n",
    "            print(\"{} - 지연 {} \".format(self.clientname, self.sec))\n",
    "            time.sleep(self.sec)\n",
    "\n",
    "clientA = client_thread(\"clientA\", 2)\n",
    "clientB = client_thread(\"clientB\", 0.5)\n",
    "clientC = client_thread(\"clientC\", 2)\n",
    "clientA.start()\n",
    "clientB.start()\n",
    "clientC.start()"
   ]
  },
  {
   "cell_type": "code",
   "execution_count": null,
   "metadata": {},
   "outputs": [],
   "source": []
  }
 ],
 "metadata": {
  "kernelspec": {
   "display_name": "Python 3",
   "language": "python",
   "name": "python3"
  }
 },
 "nbformat": 4,
 "nbformat_minor": 2
}
