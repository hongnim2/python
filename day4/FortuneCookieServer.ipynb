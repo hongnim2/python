{
 "cells": [
  {
   "cell_type": "code",
   "execution_count": null,
   "metadata": {},
   "outputs": [
    {
     "name": "stdout",
     "output_type": "stream",
     "text": [
      "waiting for connection...\n"
     ]
    }
   ],
   "source": [
    "# Fortune Cookie Server\n",
    "\n",
    "zop = \"\"\"가르치지 않으면 예의가 소홀해진다\n",
    "감사에서 만족이 온다\n",
    "거짓말은 실패를 자초한다\n",
    "결코 절망하지 말라\n",
    "괴로울 때가 있고,즐거울 때가 있다\n",
    "교만은 실패를 이룬다\n",
    "남에게 너그럽게 한만큼 남에게 \n",
    "행복을 주는 사람이 행복하다\n",
    "독서는 덕성을 밝혀주는 빛이다\n",
    "돈으로 우정을 살 수는 없다\n",
    "마음 그릇의 크기부터 키워라\n",
    "마음이 따뜻해야 복을 누린다\n",
    "먼저 핀 꽃은 먼저 진다\n",
    "벗은 인생의 보화다\n",
    "부귀할수록 너그럽고 관대하라\n",
    "성공은 긍정적인 생각의 열매다\n",
    "성공은 실행으로 이루어진다\n",
    "사랑의 감정은 건강에 좋다\n",
    "사소한 일을 조심하라\n",
    "생명을 사랑하라\n",
    "선한 것이 가장 아름답다\"\"\"  # 19개의  문장\n",
    "\n",
    "fortunelist = zop.split('\\n')  # 각 문장을 fortunelist(리스트)의 항목으로 만든다\n",
    "\n",
    "import socket\n",
    "import random\n",
    "\n",
    "\n",
    "def choice():  # fortunelist의 항목의 범위 내에서 무작위 숫자 생성\n",
    "    return random.randint(0, len(fortunelist) - 1)\n",
    "\n",
    "#myip = '192.168.102.111'  # 실습환경에 따라서 바뀔 수 있다.(자신의 IP 또는 루프백 주소)\n",
    "myip = '127.0.0.1'  # localhost, 실행 중인 컴퓨터\n",
    "myport = 62580\n",
    "address = (myip, myport)\n",
    "\n",
    "sevsock = socket.socket(socket.AF_INET, socket.SOCK_STREAM)\n",
    "sevsock.bind(address)\n",
    "sevsock.listen()\n",
    "\n",
    "while True:\n",
    "    print(\"waiting for connection...\")\n",
    "    clisock, cliaddr = sevsock.accept()\n",
    "    print(\"Connection from {}\".format(cliaddr))\n",
    "    clisock.send(b\"This is Forthune Cookie Sever. Welcome!\")  # 환영 메세지 전송\n",
    "    clisock.send(bytes(fortunelist[choice()], 'utf-8'))  # 무작위 문장 전송\n",
    "    clisock.close()  # 연결 끊음\n",
    "sevsock.close()\n"
   ]
  },
  {
   "cell_type": "code",
   "execution_count": null,
   "metadata": {},
   "outputs": [],
   "source": []
  }
 ],
 "metadata": {
  "kernelspec": {
   "display_name": "Python 3",
   "language": "python",
   "name": "python3"
  },
  "language_info": {
   "codemirror_mode": {
    "name": "ipython",
    "version": 3
   },
   "file_extension": ".py",
   "mimetype": "text/x-python",
   "name": "python",
   "nbconvert_exporter": "python",
   "pygments_lexer": "ipython3",
   "version": "3.7.3"
  }
 },
 "nbformat": 4,
 "nbformat_minor": 2
}
