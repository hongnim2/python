{
 "cells": [
  {
   "cell_type": "code",
   "execution_count": 1,
   "metadata": {},
   "outputs": [],
   "source": [
    "import numpy as np # 배열형식의 데이터 관리 제고으 고성능 연산"
   ]
  },
  {
   "cell_type": "code",
   "execution_count": 5,
   "metadata": {},
   "outputs": [
    {
     "name": "stdout",
     "output_type": "stream",
     "text": [
      "[[1 2 3]\n",
      " [4 5 6]]\n",
      "int32\n",
      "2\n",
      "(2, 3)\n"
     ]
    }
   ],
   "source": [
    "# 배열 생성\n",
    "arr1=np.array([[1,2,3],[4,5,6]])\n",
    "print(arr1)\n",
    "print(arr1.dtype)\n",
    "print(arr1.ndim)\n",
    "print(arr1.shape)"
   ]
  },
  {
   "cell_type": "code",
   "execution_count": 9,
   "metadata": {},
   "outputs": [
    {
     "name": "stdout",
     "output_type": "stream",
     "text": [
      "[[1 2 3]\n",
      " [4 5 6]\n",
      " [7 8 9]]\n"
     ]
    }
   ],
   "source": [
    "# 배열 생성2\n",
    "arr2=np.arange(1,10).reshape(3,3)\n",
    "print(arr2)"
   ]
  },
  {
   "cell_type": "code",
   "execution_count": 11,
   "metadata": {},
   "outputs": [
    {
     "name": "stdout",
     "output_type": "stream",
     "text": [
      "[[-0.8800953   0.75431726  1.2800591  -0.42657823]\n",
      " [-3.338601   -0.543695   -1.16016737  0.76301167]\n",
      " [-0.52485834  0.45292319  0.35527562 -0.06678272]\n",
      " [-0.43192026  2.36638091 -0.45819925  0.4763641 ]]\n"
     ]
    }
   ],
   "source": [
    "# 배열 생성3\n",
    "arr3=np.random.randn(4,4)\n",
    "print(arr3)"
   ]
  },
  {
   "cell_type": "code",
   "execution_count": 105,
   "metadata": {},
   "outputs": [
    {
     "name": "stdout",
     "output_type": "stream",
     "text": [
      "[[39 16 28 19]\n",
      " [10 26 14  7]\n",
      " [ 5 37  9  2]\n",
      " [50  7 31  9]]\n"
     ]
    }
   ],
   "source": [
    "# 배열 생성4 : 임의의 값 1-~50 사이의 값을 발생하여 4x4 배열 생성\n",
    "arr4=np.random.randint(1,51,16).reshape(4,4)\n",
    "print(arr4)"
   ]
  },
  {
   "cell_type": "code",
   "execution_count": 65,
   "metadata": {},
   "outputs": [
    {
     "data": {
      "text/plain": [
       "array([[ 1, 44, 15, 44],\n",
       "       [24, 21, 39, 28],\n",
       "       [11,  6, 40, 34],\n",
       "       [31, 21, 31,  4]])"
      ]
     },
     "execution_count": 65,
     "metadata": {},
     "output_type": "execute_result"
    }
   ],
   "source": [
    "# 검색\n",
    "arr4"
   ]
  },
  {
   "cell_type": "code",
   "execution_count": 66,
   "metadata": {},
   "outputs": [
    {
     "data": {
      "text/plain": [
       "array([ 1, 44, 15, 44])"
      ]
     },
     "execution_count": 66,
     "metadata": {},
     "output_type": "execute_result"
    }
   ],
   "source": [
    "arr4[0] # 1행 출력"
   ]
  },
  {
   "cell_type": "code",
   "execution_count": 49,
   "metadata": {},
   "outputs": [
    {
     "data": {
      "text/plain": [
       "28"
      ]
     },
     "execution_count": 49,
     "metadata": {},
     "output_type": "execute_result"
    }
   ],
   "source": [
    "arr4[1,3] # 특정 위치 출력"
   ]
  },
  {
   "cell_type": "code",
   "execution_count": 68,
   "metadata": {},
   "outputs": [
    {
     "data": {
      "text/plain": [
       "array([[44, 15],\n",
       "       [21, 39],\n",
       "       [ 6, 40],\n",
       "       [21, 31]])"
      ]
     },
     "execution_count": 68,
     "metadata": {},
     "output_type": "execute_result"
    }
   ],
   "source": [
    "arr4[0:4,1:3] # 특정 범위 출력"
   ]
  },
  {
   "cell_type": "code",
   "execution_count": 71,
   "metadata": {},
   "outputs": [
    {
     "name": "stdout",
     "output_type": "stream",
     "text": [
      "[[False  True False  True]\n",
      " [ True  True  True  True]\n",
      " [False False  True  True]\n",
      " [ True  True  True False]]\n"
     ]
    }
   ],
   "source": [
    "arr5=arr4>20 # 배열값 조건식\n",
    "print(arr5)"
   ]
  },
  {
   "cell_type": "code",
   "execution_count": 92,
   "metadata": {},
   "outputs": [
    {
     "data": {
      "text/plain": [
       "array([[ 1, 44, 15, 44],\n",
       "       [24, 21, 39, 28],\n",
       "       [11,  6, 40, 34],\n",
       "       [31, 21, 31,  4]])"
      ]
     },
     "execution_count": 92,
     "metadata": {},
     "output_type": "execute_result"
    }
   ],
   "source": [
    "arr6=arr4.copy()\n",
    "arr6"
   ]
  },
  {
   "cell_type": "code",
   "execution_count": 93,
   "metadata": {},
   "outputs": [
    {
     "data": {
      "text/plain": [
       "array([[ 1, 44, 30, 44],\n",
       "       [24, 21, 39, 28],\n",
       "       [11,  6, 40, 34],\n",
       "       [31, 21, 31,  4]])"
      ]
     },
     "execution_count": 93,
     "metadata": {},
     "output_type": "execute_result"
    }
   ],
   "source": [
    "arr6[0,2]=30\n",
    "arr6"
   ]
  },
  {
   "cell_type": "code",
   "execution_count": 94,
   "metadata": {},
   "outputs": [
    {
     "data": {
      "text/plain": [
       "array([[ 0, 44, 30, 44],\n",
       "       [24, 21, 39, 28],\n",
       "       [ 0,  0, 40, 34],\n",
       "       [31, 21, 31,  0]])"
      ]
     },
     "execution_count": 94,
     "metadata": {},
     "output_type": "execute_result"
    }
   ],
   "source": [
    "arr6[arr6<=20]=0 #f 각 셀마다 조건식을 확인하여 값을 할당\n",
    "arr6"
   ]
  },
  {
   "cell_type": "code",
   "execution_count": 95,
   "metadata": {},
   "outputs": [
    {
     "name": "stdout",
     "output_type": "stream",
     "text": [
      "[24 21 39 28]\n",
      "[100  21  39  28]\n",
      "[[  0  44  30  44]\n",
      " [100  21  39  28]\n",
      " [  0   0  40  34]\n",
      " [ 31  21  31   0]]\n"
     ]
    }
   ],
   "source": [
    "b=arr6[1] # b가 별개의 객체가 아닌 참조객체로 동작하여, 원래 데이터 arr6에도 영향을 끼친다\n",
    "print(b)\n",
    "b[0]=100\n",
    "print(b)\n",
    "print(arr6)"
   ]
  },
  {
   "cell_type": "code",
   "execution_count": 106,
   "metadata": {},
   "outputs": [
    {
     "data": {
      "text/plain": [
       "array([[39, 16, 28, 19],\n",
       "       [10, 26, 14,  7],\n",
       "       [ 5, 37,  9,  2],\n",
       "       [50,  7, 31,  9]])"
      ]
     },
     "execution_count": 106,
     "metadata": {},
     "output_type": "execute_result"
    }
   ],
   "source": [
    "# 통계함수\n",
    "arr4"
   ]
  },
  {
   "cell_type": "code",
   "execution_count": 101,
   "metadata": {},
   "outputs": [
    {
     "name": "stdout",
     "output_type": "stream",
     "text": [
      "394\n",
      "[ 67  92 125 110]\n",
      "[104 112  91  87]\n"
     ]
    }
   ],
   "source": [
    "print(np.sum(arr4)) #배열 총합\n",
    "print(np.sum(arr4, axis=0)) #세로줄 합계\n",
    "print(np.sum(arr4, axis=1)) #가로줄 합계"
   ]
  },
  {
   "cell_type": "code",
   "execution_count": 108,
   "metadata": {},
   "outputs": [
    {
     "data": {
      "text/plain": [
       "array([50, 37, 31, 19])"
      ]
     },
     "execution_count": 108,
     "metadata": {},
     "output_type": "execute_result"
    }
   ],
   "source": [
    "np.max(arr4, axis=0) #세로줄에서 최대값"
   ]
  },
  {
   "cell_type": "code",
   "execution_count": 114,
   "metadata": {},
   "outputs": [
    {
     "data": {
      "text/plain": [
       "array([3, 2, 3, 0], dtype=int64)"
      ]
     },
     "execution_count": 114,
     "metadata": {},
     "output_type": "execute_result"
    }
   ],
   "source": [
    "np.argmax(arr4, axis=0) #세로줄에서 최대값의 인덱스"
   ]
  },
  {
   "cell_type": "code",
   "execution_count": 115,
   "metadata": {},
   "outputs": [
    {
     "data": {
      "text/plain": [
       "array([[ 39,  16,  28,  19],\n",
       "       [ 49,  42,  42,  26],\n",
       "       [ 54,  79,  51,  28],\n",
       "       [104,  86,  82,  37]], dtype=int32)"
      ]
     },
     "execution_count": 115,
     "metadata": {},
     "output_type": "execute_result"
    }
   ],
   "source": [
    "np.cumsum(arr4, axis=0) # 세로줄의 값을 적산하여 표출"
   ]
  },
  {
   "cell_type": "code",
   "execution_count": null,
   "metadata": {},
   "outputs": [],
   "source": []
  }
 ],
 "metadata": {
  "kernelspec": {
   "display_name": "Python 3",
   "language": "python",
   "name": "python3"
  },
  "language_info": {
   "codemirror_mode": {
    "name": "ipython",
    "version": 3
   },
   "file_extension": ".py",
   "mimetype": "text/x-python",
   "name": "python",
   "nbconvert_exporter": "python",
   "pygments_lexer": "ipython3",
   "version": "3.7.3"
  }
 },
 "nbformat": 4,
 "nbformat_minor": 2
}
