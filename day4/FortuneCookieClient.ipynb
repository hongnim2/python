{
 "cells": [
  {
   "cell_type": "code",
   "execution_count": 13,
   "metadata": {},
   "outputs": [
    {
     "name": "stdout",
     "output_type": "stream",
     "text": [
      "This is Forthune Cookie Sever. Welcome!\n",
      "성공은 긍정적인 생각의 열매다\n"
     ]
    }
   ],
   "source": [
    "# Fortune Cookie Client\n",
    "from socket import *\n",
    "#sevip = '192.168.102.15'  # 실습환경에 따라서 바뀔 수 있다.\n",
    "myip = '127.0.0.1'  # localhost, 실행 중인 컴퓨터\n",
    "sevport = 62580\n",
    "address = (sevip, sevport)\n",
    "mysock = socket(AF_INET, SOCK_STREAM)\n",
    "mysock.connect(address)\n",
    "\n",
    "data = mysock.recv(1024)  # 연결 성공 메세지 받기, size:1024Byte\n",
    "print(data.decode(\"UTF-8\"))\n",
    "\n",
    "data = mysock.recv(1024)  # Fortune Cookie 받기\n",
    "print(data.decode(\"UTF-8\"))\n",
    "\n",
    "mysock.close()"
   ]
  },
  {
   "cell_type": "code",
   "execution_count": null,
   "metadata": {},
   "outputs": [],
   "source": []
  },
  {
   "cell_type": "code",
   "execution_count": null,
   "metadata": {},
   "outputs": [],
   "source": []
  }
 ],
 "metadata": {
  "kernelspec": {
   "display_name": "Python 3",
   "language": "python",
   "name": "python3"
  },
  "language_info": {
   "codemirror_mode": {
    "name": "ipython",
    "version": 3
   },
   "file_extension": ".py",
   "mimetype": "text/x-python",
   "name": "python",
   "nbconvert_exporter": "python",
   "pygments_lexer": "ipython3",
   "version": "3.7.3"
  }
 },
 "nbformat": 4,
 "nbformat_minor": 2
}
